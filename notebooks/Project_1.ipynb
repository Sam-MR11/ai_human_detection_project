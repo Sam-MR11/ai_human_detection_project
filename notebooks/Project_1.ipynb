{
  "nbformat": 4,
  "nbformat_minor": 0,
  "metadata": {
    "colab": {
      "provenance": []
    },
    "kernelspec": {
      "name": "python3",
      "display_name": "Python 3"
    },
    "language_info": {
      "name": "python"
    }
  },
  "cells": [
    {
      "cell_type": "markdown",
      "source": [
        "\n",
        "# **AI vs Human Text Classification Model**\n",
        "End-to-end ML Pipeline for Text Classification\n",
        "\n",
        "Used Models: *SVM, Decision Tree, AdaBoost, Ensemble Voting Classifier*\n",
        "\n",
        "Author: **Samaya Niraula**\n"
      ],
      "metadata": {
        "id": "EC50We5-siKC"
      }
    },
    {
      "cell_type": "markdown",
      "source": [
        "### IMPORTING LIBRARIES"
      ],
      "metadata": {
        "id": "GsAOjGyxtK_R"
      }
    },
    {
      "cell_type": "code",
      "source": [
        "# Import necessary libraries for data manipulation, visualization, and machine learning\n",
        "import pandas as pd\n",
        "import numpy as np\n",
        "import matplotlib.pyplot as plt\n",
        "import seaborn as sns\n",
        "import re\n",
        "import joblib\n",
        "import string\n",
        "import math\n",
        "import time\n",
        "import os\n",
        "import pickle\n",
        "# Sklearn libraries for machine learning and text processing\n",
        "from sklearn.feature_extraction.text import TfidfVectorizer\n",
        "from sklearn.base import BaseEstimator, TransformerMixin\n",
        "from sklearn.svm import SVC\n",
        "from sklearn.tree import DecisionTreeClassifier\n",
        "from sklearn.ensemble import AdaBoostClassifier\n",
        "from sklearn.ensemble import RandomForestClassifier\n",
        "from sklearn.feature_selection import SelectKBest, chi2\n",
        "from sklearn.model_selection import train_test_split, GridSearchCV, cross_val_score, KFold, StratifiedKFold, cross_validate, validation_curve, learning_curve\n",
        "from sklearn.metrics import classification_report, accuracy_score, confusion_matrix, roc_curve, auc\n",
        "from sklearn.metrics import roc_auc_score, precision_recall_fscore_support, f1_score\n",
        "from sklearn.pipeline import Pipeline, FeatureUnion\n",
        "from sklearn.preprocessing import StandardScaler, FunctionTransformer\n",
        "from sklearn import metrics\n",
        "\n",
        "\n",
        "# NLTK libraries for text processing (lemmatization, stemming, stopwords, POS tagging)\n",
        "import nltk\n",
        "from nltk.corpus import stopwords, wordnet\n",
        "from nltk.stem import WordNetLemmatizer, PorterStemmer\n",
        "from nltk.tokenize import word_tokenize\n",
        "\n",
        "# Set up visualization\n",
        "%matplotlib inline\n",
        "import matplotlib.pyplot as plt\n",
        "sns.set_style(\"whitegrid\")\n",
        "plt.style.use(\"fivethirtyeight\")\n",
        "\n",
        "# Download necessary NLTK resources for text processing\n",
        "nltk.download('wordnet')  # WordNet for lemmatization\n",
        "nltk.download('omw-1.4')  # Open Multilingual Wordnet\n",
        "nltk.download('punkt')  # Tokenizer\n",
        "nltk.download('punkt_tab')\n",
        "nltk.download('stopwords')  # Stopwords for text cleaning\n",
        "nltk.download('averaged_perceptron_tagger')  # POS tagger for part-of-speech tagging\n",
        "nltk.download('averaged_perceptron_tagger_eng')  # Additional tagger\n",
        "nltk.download('tagsets_json')  # Tagset resource\n",
        "\n",
        "print(\"\\n All libraries imported successfully!\")"
      ],
      "metadata": {
        "colab": {
          "base_uri": "https://localhost:8080/"
        },
        "id": "iy8aeicCHylp",
        "outputId": "bf4b3b00-a571-4b75-9921-ef01d06cd2e5"
      },
      "execution_count": 23,
      "outputs": [
        {
          "output_type": "stream",
          "name": "stdout",
          "text": [
            "\n",
            " All libraries imported successfully!\n"
          ]
        },
        {
          "output_type": "stream",
          "name": "stderr",
          "text": [
            "[nltk_data] Downloading package wordnet to /root/nltk_data...\n",
            "[nltk_data]   Package wordnet is already up-to-date!\n",
            "[nltk_data] Downloading package omw-1.4 to /root/nltk_data...\n",
            "[nltk_data]   Package omw-1.4 is already up-to-date!\n",
            "[nltk_data] Downloading package punkt to /root/nltk_data...\n",
            "[nltk_data]   Package punkt is already up-to-date!\n",
            "[nltk_data] Downloading package punkt_tab to /root/nltk_data...\n",
            "[nltk_data]   Package punkt_tab is already up-to-date!\n",
            "[nltk_data] Downloading package stopwords to /root/nltk_data...\n",
            "[nltk_data]   Package stopwords is already up-to-date!\n",
            "[nltk_data] Downloading package averaged_perceptron_tagger to\n",
            "[nltk_data]     /root/nltk_data...\n",
            "[nltk_data]   Package averaged_perceptron_tagger is already up-to-\n",
            "[nltk_data]       date!\n",
            "[nltk_data] Downloading package averaged_perceptron_tagger_eng to\n",
            "[nltk_data]     /root/nltk_data...\n",
            "[nltk_data]   Package averaged_perceptron_tagger_eng is already up-to-\n",
            "[nltk_data]       date!\n",
            "[nltk_data] Downloading package tagsets_json to /root/nltk_data...\n",
            "[nltk_data]   Package tagsets_json is already up-to-date!\n"
          ]
        }
      ]
    },
    {
      "cell_type": "markdown",
      "source": [
        "### TASK 1: DATA LOADING AND PREPROCESSING PIPELINE"
      ],
      "metadata": {
        "id": "c30p4GpnttVL"
      }
    },
    {
      "cell_type": "code",
      "source": [
        "# I.a. Loading the data\n",
        "import pandas as pd\n",
        "df_train = pd.read_excel('AI_vs_huam_train_dataset.xlsx')\n",
        "df_test = pd.read_csv('Final_test_data.csv')"
      ],
      "metadata": {
        "id": "-fq7lZHe7KA2"
      },
      "execution_count": 24,
      "outputs": []
    },
    {
      "cell_type": "code",
      "source": [
        "print(\"Dataset Information:\")\n",
        "print(f\"Training data shape: {df_train.shape}\")\n",
        "print(f\"Test data shape: {df_test.shape}\")\n",
        "print(f\"Columns: {df_train.columns.tolist()}\")\n",
        "\n",
        "# Show first few rows\n",
        "print(\"\\nFirst 5 rows of training data:\")\n",
        "print(df_train.head())\n",
        "\n",
        "# Show first few rows\n",
        "print(\"\\nFirst 5 rows of training data:\")\n",
        "print(df_test.head())\n",
        "\n",
        "# Check Essay distribution for Training Data\n",
        "print(\"\\nEssay distribution:\")\n",
        "print(df_train['label'].value_counts())\n"
      ],
      "metadata": {
        "colab": {
          "base_uri": "https://localhost:8080/"
        },
        "id": "rdF9aw_Qzrn_",
        "outputId": "b05ce9df-c54d-4b0a-d016-57793254e093"
      },
      "execution_count": 25,
      "outputs": [
        {
          "output_type": "stream",
          "name": "stdout",
          "text": [
            "Dataset Information:\n",
            "Training data shape: (3728, 2)\n",
            "Test data shape: (869, 2)\n",
            "Columns: ['essay', 'label']\n",
            "\n",
            "First 5 rows of training data:\n",
            "                                               essay  label\n",
            "0  International sports events require the most w...      0\n",
            "1  Globalisation has become a significant aspect ...      0\n",
            "2  There is an ever-increasing number of bullying...      0\n",
            "3  It is commonly believed, that companies should...      0\n",
            "4  Despite knowing about the adverse effects of c...      0\n",
            "\n",
            "First 5 rows of training data:\n",
            "                                               essay  label\n",
            "0  Enjoyment means entertainment, satisfaction of...    NaN\n",
            "1  Before to start with my opinion of the topic i...    NaN\n",
            "2  Thats a really really good subject, but acctul...    NaN\n",
            "3  I disagree with the statement saying that it i...    NaN\n",
            "4  It is undeniable that advertisements play a si...    NaN\n",
            "\n",
            "Essay distribution:\n",
            "label\n",
            "0    1864\n",
            "1    1864\n",
            "Name: count, dtype: int64\n"
          ]
        }
      ]
    },
    {
      "cell_type": "code",
      "source": [
        "#Showing sample text from each category\n",
        "print(\"Sample Texts:\")\n",
        "print(\"Human- Written:\")\n",
        "sample_human = df_train[df_train['label'] == 0]['essay'].iloc[0]\n",
        "print(sample_human[:195])                                        #Display the first 195 characters from essay section if label == 0\n",
        "print(\"\\nAI-Written:\")\n",
        "sample_ai = df_train[df_train['label'] == 1]['essay'].iloc[0]\n",
        "print(sample_ai[:189])"
      ],
      "metadata": {
        "colab": {
          "base_uri": "https://localhost:8080/"
        },
        "id": "LDAFNYDhvkaS",
        "outputId": "51ac2b06-ed40-4f3c-b77d-f44e62d43fbd"
      },
      "execution_count": 26,
      "outputs": [
        {
          "output_type": "stream",
          "name": "stdout",
          "text": [
            "Sample Texts:\n",
            "Human- Written:\n",
            "International sports events require the most well-trained athletes for each country, in order to achieve this goal countries make an effort to build infrastructure designed to train top athletes.\n",
            "\n",
            "AI-Written:\n",
            "International sports events demand that countries field their most highly trained athletes, which is why many nations invest in specialized facilities to help their top performers succeed. \n"
          ]
        }
      ]
    },
    {
      "cell_type": "code",
      "source": [
        "from tkinter import Y\n",
        "#Visualising Class Distribution\n",
        "plt.figure(figsize=(8, 6))\n",
        "sns.countplot(x='label', data=df_train,palette='pastel')\n",
        "plt.title(\"Class Distribution in Training Data\")\n",
        "plt.xlabel(\"Class label\")\n",
        "plt.ylabel(\"Frequency\")\n",
        "plt.xticks(ticks=[0, 1], labels=['Human', 'AI'])\n",
        "plt.show()"
      ],
      "metadata": {
        "colab": {
          "base_uri": "https://localhost:8080/",
          "height": 590
        },
        "id": "pJypBQCe1PfV",
        "outputId": "7f3b7515-5a14-45ee-b4ca-bab73eb8d92a"
      },
      "execution_count": 27,
      "outputs": [
        {
          "output_type": "stream",
          "name": "stderr",
          "text": [
            "/tmp/ipython-input-27-1305501701.py:4: FutureWarning: \n",
            "\n",
            "Passing `palette` without assigning `hue` is deprecated and will be removed in v0.14.0. Assign the `x` variable to `hue` and set `legend=False` for the same effect.\n",
            "\n",
            "  sns.countplot(x='label', data=df_train,palette='pastel')\n"
          ]
        },
        {
          "output_type": "display_data",
          "data": {
            "text/plain": [
              "<Figure size 800x600 with 1 Axes>"
            ],
            "image/png": "[encoded data removed]"
          },
          "metadata": {}
        }
      ]
    },
    {
      "cell_type": "markdown",
      "source": [
        "###  II. ADVANCED TEXT PREPROCESSING PIPELINE SETUP"
      ],
      "metadata": {
        "id": "2zVyNrfmt_Op"
      }
    },
    {
      "cell_type": "code",
      "source": [
        "# II.a. TEXT CLEANING AND NORMALIZATION\n",
        "#Using CUSTOM TRANSFORMER/PREPROCESSING STEPS\n",
        "\n",
        "class TextPreprocessor(BaseEstimator, TransformerMixin):\n",
        "    def __init__(self):\n",
        "        self.stop_words = set(stopwords.words('english'))\n",
        "        self.lemmatizer_1 = WordNetLemmatizer()\n",
        "        self.stop_words.update(['u','didn,äôt', 'ü', 'ur', '4', '2', 'im','äôt','ä', 'dont','doesnt', 'doin','doesn,äôt', 'ure', 'ô']) #Adding custom stopwords\n",
        "\n",
        "    def fit(self, X, y=None):\n",
        "        return self           #No fitting is required\n",
        "\n",
        "    def transform(self, X, y=None):     #Applies transform on all preprocessing steps\n",
        "        if isinstance(X, str):\n",
        "        # Handle single string\n",
        "          return self.lemmatizer(self.stopwords_removal(self.text_process(X)))\n",
        "        else:\n",
        "        # Handle pandas Series\n",
        "          return X.apply(lambda x: self.lemmatizer(self.stopwords_removal(self.text_process(x))))\n",
        "\n",
        "    def get_wordnet_pos(self, word):\n",
        "        \"\"\"Convert POS tag to format accepted by WordNet lemmatizer\"\"\"\n",
        "        tag = nltk.pos_tag([word])[0][1][0].upper()\n",
        "        tag_dict = {\"J\": wordnet.ADJ,\n",
        "                    \"N\": wordnet.NOUN,\n",
        "                    \"V\": wordnet.VERB,\n",
        "                    \"R\": wordnet.ADV}\n",
        "        return tag_dict.get(tag, wordnet.NOUN)\n",
        "\n",
        "    def text_process(self,text):\n",
        "        #Takes in a string of text, then performs the following:\n",
        "        #Handles non-string values\n",
        "        if not isinstance(text, str):\n",
        "          return \"\"\n",
        "\n",
        "        #Make all characters lowercase\n",
        "        text = text.lower()\n",
        "\n",
        "        # Remove punctuation\n",
        "        text = ''.join([char for char in text if char not in string.punctuation])\n",
        "\n",
        "        #re to remove words containing digits (tokenizing text into words))\n",
        "        text = re.sub(r'[^a-zA-Z\\s]', '', text) #Removes non-English letters(whitespace not included) and replaces with whitespace\n",
        "        text = re.sub(r'\\b\\w*\\d\\w*\\b', '', text) #Removes whole words that contains one or more digits and replaces with whitespace\n",
        "        text = re.sub(r'\\s+', ' ', text) #Removes extra whitespaces\n",
        "        text = re.sub(r'http\\S+|www\\S+|https\\S+', '', text) # Remove URLs, emails, HTML tags\n",
        "        text = re.sub(r'\\S+@\\S+', '', text)\n",
        "        text = re.sub(r'<.*?>', '', text)\n",
        "        return text\n",
        "\n",
        "    def stopwords_removal(self,text):\n",
        "        #Removes stopwords\n",
        "        STOPWORDS = stopwords.words('english') + ['u','didn,äôt', 'ü', 'ur', '4', '2', 'im','äôt','ä', 'dont','doesnt', 'doin','doesn,äôt', 'ure', 'ô']\n",
        "        return ' '.join([word for word in text.split() if word not in STOPWORDS and len(word) > 1])\n",
        "    def lemmatizer(self, text):\n",
        "        \"\"\"Apply lemmatization with POS tagging\"\"\"\n",
        "        tokens = word_tokenize(text)\n",
        "\n",
        "        lemmatized_tokens = []\n",
        "        for token in tokens:\n",
        "            if token not in self.stop_words and len(token) > 2:\n",
        "                # Get POS tag and lemmatize\n",
        "                pos_tag = self.get_wordnet_pos(token)\n",
        "                lemmatized_token = self.lemmatizer_1.lemmatize(token, pos_tag)\n",
        "                lemmatized_tokens.append(lemmatized_token)\n",
        "\n",
        "        return ' '.join(lemmatized_tokens)\n",
        "\n",
        "    def preprocess(self, text):\n",
        "        \"\"\"Complete preprocessing pipeline\"\"\"\n",
        "        cleaned_text = self.text_process(text)\n",
        "        lemmatized_text = self.lemmatizer(cleaned_text)\n",
        "        return lemmatized_text\n",
        "\n",
        "print(\"Text preprocessing class created!\")"
      ],
      "metadata": {
        "id": "VLNluiiV3_k5",
        "colab": {
          "base_uri": "https://localhost:8080/"
        },
        "outputId": "061efb63-d87d-4712-9db8-d73f854b2614"
      },
      "execution_count": 28,
      "outputs": [
        {
          "output_type": "stream",
          "name": "stdout",
          "text": [
            "Text preprocessing class created!\n"
          ]
        }
      ]
    },
    {
      "cell_type": "code",
      "source": [
        " #Applying Preprocessing on training data\n",
        "preprocessing = TextPreprocessor()\n",
        "\n",
        "print(\"Applying advanced text preprocessing with lemmatization...\")\n",
        "# Apply preprocessing to training data\n",
        "df_train['clean_text'] = df_train['essay'].apply(preprocessing.preprocess)\n",
        "\n",
        "# Apply preprocessing to test data\n",
        "df_test['clean_text'] = df_test['essay'].apply(preprocessing.preprocess)\n",
        "\n",
        "print(\"Text preprocessing completed!\")"
      ],
      "metadata": {
        "colab": {
          "base_uri": "https://localhost:8080/"
        },
        "id": "-bej-qre0xia",
        "outputId": "5dbb2345-a843-4912-f136-5e11a6a08c70"
      },
      "execution_count": 29,
      "outputs": [
        {
          "output_type": "stream",
          "name": "stdout",
          "text": [
            "Applying advanced text preprocessing with lemmatization...\n",
            "Text preprocessing completed!\n"
          ]
        }
      ]
    },
    {
      "cell_type": "code",
      "source": [
        "# Show examples of preprocessing\n",
        "print(\"\\nExamples of text preprocessing:\")\n",
        "print(\"Original:\", df_train['essay'].iloc[0])\n",
        "print(\"Processed:\", df_train['clean_text'].iloc[0])\n",
        "print()\n",
        "print(\"Original:\", df_train['essay'].iloc[5])\n",
        "print(\"Processed:\", df_train['clean_text'].iloc[5])"
      ],
      "metadata": {
        "colab": {
          "base_uri": "https://localhost:8080/"
        },
        "id": "8yiyrXdQ7pWI",
        "outputId": "bfcbfbce-ffac-4d05-a527-a219ec03b88d"
      },
      "execution_count": 30,
      "outputs": [
        {
          "output_type": "stream",
          "name": "stdout",
          "text": [
            "\n",
            "Examples of text preprocessing:\n",
            "Original: International sports events require the most well-trained athletes for each country, in order to achieve this goal countries make an effort to build infrastructure designed to train top athletes. Although this policy can indeed make fewer sports facilities for ordinary people, investing in the best athletes is vital to develop competitive sports performances in each country.\n",
            "On the one hand, building specific infrastructure for the best athletes is crucial in order to get better results at international sports events such as The Olympics or the World Cup. The importance of getting better results is that it creates awareness of the importance of sports in society and motivates more people to do a sport. In this way, investing in these developments can help countries to develop an integral sport policy that can benefit everyone.\n",
            "On the other hand, one can argue that a negative effect could be that less infrastructure is built for the rest of the people. However, people who practice a sport in their daily life do not necessarily need some facilities to do sports. For example, people often use public spaces to do sports such as running or doing yoga at the nearest park to their home. So, for people who is not top athletes there could be some alternatives for sports facility that ,is not the case for training top athletes.\n",
            "To sum up, I strongly believe countries should invest in specialised infrastructure for their best athletes because in the long term is going to generate more motivation to do sports, to invest in sports at schools and therefore to build more sports infrastructure for everyone.\n",
            "Processed: international sport event require welltrained athlete country order achieve goal country make effort build infrastructure design train top athlete although policy indeed make few sport facility ordinary people invest best athlete vital develop competitive sport performance country one hand building specific infrastructure best athlete crucial order get well result international sport event olympics world cup importance get well result creates awareness importance sport society motivates people sport way invest development help country develop integral sport policy benefit everyone hand one argue negative effect could less infrastructure built rest people however people practice sport daily life necessarily need facility sport example people often use public space sport run yoga near park home people top athlete could alternative sport facility case training top athlete sum strongly believe country invest specialise infrastructure best athlete long term go generate motivation sport invest sport school therefore build sport infrastructure everyone\n",
            "\n",
            "Original: These days the space exploration is not just an imagination since human beings landed and step their foot on the moon decades ago. In addition, the fast technology evolution in the present came from the concerns of many scientists around the world. Some people believe that focusing on the space evolution matter. While others argue that they should invest inside the country. In my opinion, the exploration of our planet could enhance people's lives in many different ways. However, the human organization should do the best in other more useful sectors to improve human needs.\n",
            "On one hand, the space exploration has always been a fascinating topic over recent years. Scientists researching to find out and trying to know what is hiding out of the black hole and another universal plant if it is livable or has any natural resources. For example, in 1991 research proved that to travel from the earth to the nearest planet it could take approximately 3 to 4 months continually. In other words, exploration of a planet is costly as well as takes much time to reach it.\n",
            "On the other hand, the benefit of universe exploration may change our earth's environment and improve our lives for the next coming generation in technology. For instance, people after the year 2000 had better communication with each other which was not even possible at any time ever. Moreover, the government invests to develop space exploration companies.\n",
            "In conclusion, after carefully explaining my points of view I strongly believe that space companies such as SpaceX must try to find a new resources to visit other planets. However, I agree that they should be done after providing the basic needs of the human on earth and investing to solve poverty and any other human tragedies.\n",
            "Processed: day space exploration imagination since human being land step foot moon decade ago addition fast technology evolution present come concern many scientist around world people believe focus space evolution matter others argue invest inside country opinion exploration planet could enhance people life many different way however human organization best useful sector improve human need one hand space exploration always fascinate topic recent year scientist research find try know hiding black hole another universal plant livable natural resource example research prove travel earth near planet could take approximately month continually word exploration planet costly well take much time reach hand benefit universe exploration may change earth environment improve life next come generation technology instance people year well communication even possible time ever moreover government invests develop space exploration company conclusion carefully explain point view strongly believe space company spacex must try find new resource visit planet however agree do provide basic need human earth invest solve poverty human tragedy\n"
          ]
        }
      ]
    },
    {
      "cell_type": "code",
      "source": [
        "#Test data\n",
        "print(\"\\nExamples of text preprocessing:\")\n",
        "print(\"Original:\", df_test['essay'].iloc[0])\n",
        "print(\"Processed:\", df_test['clean_text'].iloc[0])\n",
        "print()"
      ],
      "metadata": {
        "colab": {
          "base_uri": "https://localhost:8080/"
        },
        "id": "VvxOsLVi1hi6",
        "outputId": "bc47cb97-358e-4bc5-e80b-52c5526a1c6c"
      },
      "execution_count": 31,
      "outputs": [
        {
          "output_type": "stream",
          "name": "stdout",
          "text": [
            "\n",
            "Examples of text preprocessing:\n",
            "Original: Enjoyment means entertainment, satisfaction of one's soul and containment with the happenings in life. I would like to disagree with this statement. This is because entertainment would mean differently to different people. Entertainment depends on various factors like the person's attitude and his notion or perspective on entertainment.\n",
            "   The younger generation tends to enjoy themselves by going to parties, meeting new people, making new friends and going for long drives. The way a youngster enjoys himself or herself depends on the attitude and nature of the individual. Some people might like to go to parties for entertainment while others might like to watch a movie.\n",
            "   On the other hand the older people might also do the same things that youngsters do or they may engage in activities considered as dull and boring by the youngsters. I would like to take examples of two famous personalities here who despite their age never complained of boredom. Firstly, I would like to take the example of Mother Teresa who despite her old age found enjoyment in playing with children and serving the needy. Secondly, I would like to take the example of the famous painter, M.F. Hussain. M.F. Hussain is more than eighty years old but finds enjoyment in his paintings. He likes to draw and finds his entertainment in his drawings. \n",
            "   We can find people both among younsters and aged who remain depressed and do not tend to enjoy themselves. They lead the life of a loner and stay in recluse. The youngsters have a pressure to make their life which may in turn have an effect on the way they tend to enjoy themselves. But this might not be the case with the older people. They have a life, they have attained their goals and can live a peaceful life which in itself is an enjoyment.The old people also tend to enjoy themselves by talking to others of their age and about their life's experiences.\n",
            "    Thus we see that the entire concept of enjoyment differs from one person to other. We can never say with surity that youngsters tend to enjoy more than the old people. Everything depends on the nature and the attitude of people. If somebody wants to enjoy age is never a deciding factor. It's the perspective and the likes and dislikes of a person which tends to decide how well the person is enjoying his life.\n",
            "Processed: enjoyment mean entertainment satisfaction one soul containment happening life would like disagree statement entertainment would mean differently different people entertainment depends various factor like person attitude notion perspective entertainment young generation tends enjoy go party meeting new people make new friend go long drive way youngster enjoys depends attitude nature individual people might like party entertainment others might like watch movie hand old people might also thing youngster may engage activity consider dull boring youngster would like take example two famous personality despite age never complain boredom firstly would like take example mother teresa despite old age found enjoyment play child serve needy secondly would like take example famous painter hussain hussain eighty year old find enjoyment painting like draw find entertainment drawing find people among younsters age remain depressed tend enjoy lead life loner stay recluse youngster pressure make life may turn effect way tend enjoy might case old people life attain goal live peaceful life enjoymentthe old people also tend enjoy talk others age life experience thus see entire concept enjoyment differs one person never say surity youngster tend enjoy old people everything depends nature attitude people somebody want enjoy age never decide factor perspective like dislike person tends decide well person enjoy life\n",
            "\n"
          ]
        }
      ]
    },
    {
      "cell_type": "code",
      "source": [
        "#Defining X and y\n",
        "X = df_train['clean_text']\n",
        "y = df_train['label']"
      ],
      "metadata": {
        "id": "gl-stFN11jYH"
      },
      "execution_count": 195,
      "outputs": []
    },
    {
      "cell_type": "code",
      "source": [
        "#Splitting the train data into train and test\n",
        "X_train, X_test, y_train_, y_test = train_test_split(X, y, test_size=0.2, random_state=42, stratify=y) #random for displaying the same value everytime the cells runs and stratify ramdomly chooses values from the dataframe"
      ],
      "metadata": {
        "id": "1PASTNyI1uGT"
      },
      "execution_count": 196,
      "outputs": []
    },
    {
      "cell_type": "code",
      "source": [
        "print(\"Data split completed:\")\n",
        "print(f\"Training samples: {len(X_train)}\")\n",
        "print(f\"Validation samples: {len(X_test)}\")\n",
        "print(f\"Training label distribution: {np.bincount(y_train_)}\")    #Counts no. occurrences of elements in the array. Index 0 represents 0(Human Written) and 1 represents 1(AI Written)\n",
        "print(f\"Validation label distribution: {np.bincount(y_test)}\")"
      ],
      "metadata": {
        "colab": {
          "base_uri": "https://localhost:8080/"
        },
        "id": "HOYl-Fm385MO",
        "outputId": "b79f0c0c-8b89-4611-913c-78ba9d3003e9"
      },
      "execution_count": 34,
      "outputs": [
        {
          "output_type": "stream",
          "name": "stdout",
          "text": [
            "Data split completed:\n",
            "Training samples: 2982\n",
            "Validation samples: 746\n",
            "Training label distribution: [1491 1491]\n",
            "Validation label distribution: [373 373]\n"
          ]
        }
      ]
    },
    {
      "cell_type": "markdown",
      "source": [
        "### TASK 2: FEATURE EXTRACTION WITH PIPELINE INTEGRATION"
      ],
      "metadata": {
        "id": "oqqOUbQ7ulg1"
      }
    },
    {
      "cell_type": "code",
      "source": [
        "#I. Vectorization Technique\n",
        "vectorizers= [TfidfVectorizer(ngram_range=(1,1), max_features=1000, min_df=2, max_df=0.95),\n",
        "    TfidfVectorizer(ngram_range=(1,2), max_features=2000, min_df=2, max_df=0.95),\n",
        "    TfidfVectorizer(ngram_range=(1,3), max_features=3000, min_df=2, max_df=0.95),\n",
        "    TfidfVectorizer(ngram_range=(1,4), max_features=4000, min_df=2, max_df=0.95),\n",
        "              ]\n",
        "#II. Feature Engineering\n",
        "#Testing the parameters to find the optimal feature to use for the data\n",
        "models = {'SVM':SVC(probability=True, random_state=42),\n",
        "          'Decision Tree': DecisionTreeClassifier(random_state=42),\n",
        "          'Adaboost': AdaBoostClassifier(random_state=42)} #Testing in different models\n",
        "result= {}\n",
        "for model, models in models.items():\n",
        "  result[model] = []\n",
        "  for vectorizer in vectorizers:\n",
        "    pipeline = Pipeline([\n",
        "        ('preprocessor', TextPreprocessor()),\n",
        "        ('vectorizer', vectorizer),\n",
        "        ('classifier', models)\n",
        "        ])\n",
        "    pipeline.fit(X_train, y_train_)\n",
        "    score = pipeline.score(X_test, y_test)\n",
        "    result[model].append(score)\n",
        "    print(f\"{model} - {vectorizer} has accuracy : {score:.4f}\")"
      ],
      "metadata": {
        "colab": {
          "base_uri": "https://localhost:8080/"
        },
        "id": "cuKhWdAr2oKq",
        "outputId": "20a9a843-717f-4218-94e6-0051485d3e34"
      },
      "execution_count": 35,
      "outputs": [
        {
          "output_type": "stream",
          "name": "stdout",
          "text": [
            "SVM - TfidfVectorizer(max_df=0.95, max_features=1000, min_df=2) has accuracy : 0.9531\n",
            "SVM - TfidfVectorizer(max_df=0.95, max_features=2000, min_df=2, ngram_range=(1, 2)) has accuracy : 0.9517\n",
            "SVM - TfidfVectorizer(max_df=0.95, max_features=3000, min_df=2, ngram_range=(1, 3)) has accuracy : 0.9504\n",
            "SVM - TfidfVectorizer(max_df=0.95, max_features=4000, min_df=2, ngram_range=(1, 4)) has accuracy : 0.9531\n",
            "Decision Tree - TfidfVectorizer(max_df=0.95, max_features=1000, min_df=2) has accuracy : 0.8566\n",
            "Decision Tree - TfidfVectorizer(max_df=0.95, max_features=2000, min_df=2, ngram_range=(1, 2)) has accuracy : 0.8525\n",
            "Decision Tree - TfidfVectorizer(max_df=0.95, max_features=3000, min_df=2, ngram_range=(1, 3)) has accuracy : 0.8418\n",
            "Decision Tree - TfidfVectorizer(max_df=0.95, max_features=4000, min_df=2, ngram_range=(1, 4)) has accuracy : 0.8619\n",
            "Adaboost - TfidfVectorizer(max_df=0.95, max_features=1000, min_df=2) has accuracy : 0.9276\n",
            "Adaboost - TfidfVectorizer(max_df=0.95, max_features=2000, min_df=2, ngram_range=(1, 2)) has accuracy : 0.9169\n",
            "Adaboost - TfidfVectorizer(max_df=0.95, max_features=3000, min_df=2, ngram_range=(1, 3)) has accuracy : 0.9249\n",
            "Adaboost - TfidfVectorizer(max_df=0.95, max_features=4000, min_df=2, ngram_range=(1, 4)) has accuracy : 0.9209\n"
          ]
        }
      ]
    },
    {
      "cell_type": "markdown",
      "source": [
        "### **TASK 3**: ADVANCED MODEL DEVELOPMENT WITH GRIDSEARCHCV AND **TASK 5**: ML PIPELINE IMPLEMENTATION\n"
      ],
      "metadata": {
        "id": "0hhVA4eMuwV9"
      }
    },
    {
      "cell_type": "code",
      "source": [
        "#Using the best Vectorizer and feature selector shared across models\n",
        "# Transform Text to Numbers Using TF-IDF\n",
        "# Create TF-IDF vectorizer with optimal parameters found through experimentation\n",
        "tfidf = TfidfVectorizer(\n",
        "    max_features=2000,        # Keep top 5000 most important words\n",
        "    ngram_range=(1, 2),       # Use single words and word pairs\n",
        "    min_df=2,                 # Word must appear in at least 2 documents\n",
        "    max_df=0.95,              # Ignore words that appear in >95% of documents\n",
        "    stop_words='english'      # Remove common English stop words\n",
        ")\n",
        "feature_selection = SelectKBest(score_func=chi2)\n",
        "\n",
        "print(\"TF-IDF Vectorizer created with optimal parameters:\")\n",
        "print(f\"- Max features: 5000\")\n",
        "print(f\"- N-gram range: (1, 2) - unigrams and bigrams\")\n",
        "print(f\"- Min document frequency: 2\")\n",
        "print(f\"- Max document frequency: 0.95\")"
      ],
      "metadata": {
        "id": "CrAm2ker8D2x",
        "colab": {
          "base_uri": "https://localhost:8080/"
        },
        "outputId": "5ddb3b4e-3fc7-44b9-f8c6-26e492810989"
      },
      "execution_count": 36,
      "outputs": [
        {
          "output_type": "stream",
          "name": "stdout",
          "text": [
            "TF-IDF Vectorizer created with optimal parameters:\n",
            "- Max features: 5000\n",
            "- N-gram range: (1, 2) - unigrams and bigrams\n",
            "- Min document frequency: 2\n",
            "- Max document frequency: 0.95\n"
          ]
        }
      ]
    },
    {
      "cell_type": "markdown",
      "source": [
        "**I. SVM OPTIMIZATION**"
      ],
      "metadata": {
        "id": "CuoP-jHvu4ET"
      }
    },
    {
      "cell_type": "code",
      "source": [
        "svm_pipeline = Pipeline([\n",
        "    ('preprocessor', TextPreprocessor()),\n",
        "    ('vectorizer', tfidf),\n",
        "    ('feature', feature_selection),\n",
        "    ('classifier', SVC(probability= True, random_state=42))\n",
        "])"
      ],
      "metadata": {
        "id": "LqWTjXbxEZjL"
      },
      "execution_count": 37,
      "outputs": []
    },
    {
      "cell_type": "code",
      "source": [
        "#I. SUPPORT VECTOR MACHINE (SVM) OPTIMIZATION\n",
        "#Defining paramaters for vectorizer, feature selection and classifier\n",
        "#Reduced parrameter because it was taking too long to run\n",
        "svm_param_grid = {\n",
        "'vectorizer__max_features': [1000, 10000],\n",
        "'vectorizer__ngram_range': [(1,1), (1,2)],\n",
        "'classifier__C': [0.1, 10, 100],\n",
        "'classifier__kernel': ['linear', 'rbf'],\n",
        "'classifier__gamma': ['scale', 'auto', 0.01]# for rbf kernel }\n",
        "                   }"
      ],
      "metadata": {
        "id": "wUM_lqsp5l8j"
      },
      "execution_count": 38,
      "outputs": []
    },
    {
      "cell_type": "code",
      "source": [
        "#GridSearch for SVM\n",
        "svm_grid_search = GridSearchCV(svm_pipeline, svm_param_grid, cv=5, scoring='accuracy', n_jobs=1, verbose=1)\n",
        "print(\"\\nPerforming Grid Search for SVM...\")\n",
        "start_time_svm = time.time()\n",
        "svm_grid_search.fit(X_train, y_train_)\n",
        "end_time_svm = time.time()\n",
        "print(f\"\\nGrid Search completed in {end_time_svm - start_time_svm:.2f} seconds.\")\n",
        "print(\"\\n Best parameter for SVM:\", svm_grid_search.best_params_)\n",
        "print(f\"\\nBest cross-validation accuracy for SVM: {svm_grid_search.best_score_:.4f}\")"
      ],
      "metadata": {
        "colab": {
          "base_uri": "https://localhost:8080/"
        },
        "id": "IOZWdBy5FKqV",
        "outputId": "6d52004f-e4b4-4c69-b836-f27eb34338b3"
      },
      "execution_count": 39,
      "outputs": [
        {
          "output_type": "stream",
          "name": "stdout",
          "text": [
            "\n",
            "Performing Grid Search for SVM...\n",
            "Fitting 5 folds for each of 72 candidates, totalling 360 fits\n",
            "\n",
            "Grid Search completed in 14848.81 seconds.\n",
            "\n",
            " Best parameter for SVM: {'classifier__C': 10, 'classifier__gamma': 'scale', 'classifier__kernel': 'rbf', 'vectorizer__max_features': 10000, 'vectorizer__ngram_range': (1, 1)}\n",
            "\n",
            "Best cross-validation accuracy for SVM: 0.8119\n"
          ]
        }
      ]
    },
    {
      "cell_type": "markdown",
      "source": [
        "**II. DECISION TREE OPTIMIZATION**"
      ],
      "metadata": {
        "id": "4MJc5xJGvQj-"
      }
    },
    {
      "cell_type": "code",
      "source": [
        "#Defining Decision Tree Pipeline\n",
        "dt_pipeline = Pipeline([\n",
        "    ('preprocessor', TextPreprocessor()),\n",
        "    ('vectorizer', tfidf),\n",
        "    ('feature', feature_selection),\n",
        "    ('classifier', DecisionTreeClassifier(random_state=42))\n",
        "])"
      ],
      "metadata": {
        "id": "POylle6JJPxm"
      },
      "execution_count": 40,
      "outputs": []
    },
    {
      "cell_type": "code",
      "source": [
        "#Parameters\n",
        "dt_param_grid = {\n",
        "'vectorizer__max_features': [1000, 10000],\n",
        "'vectorizer__ngram_range': [(1,1), (1,2)],\n",
        "'classifier__criterion': ['gini', 'entropy'],\n",
        "'classifier__max_depth': [10, None],\n",
        "'classifier__min_samples_split': [2, 5],\n",
        "'classifier__min_samples_leaf': [1] }"
      ],
      "metadata": {
        "id": "lWEi8647Je-4"
      },
      "execution_count": 41,
      "outputs": []
    },
    {
      "cell_type": "code",
      "source": [
        "#GridSearch for Decision Tree\n",
        "dt_grid_search = GridSearchCV(dt_pipeline, dt_param_grid, cv=5, scoring='accuracy', n_jobs=1, verbose=1)\n",
        "print(\"\\nPerforming Grid Search for Decision Tree...\")\n",
        "start_time_dt = time.time()\n",
        "dt_grid_search.fit(X_train, y_train_)\n",
        "end_time_dt = time.time()\n",
        "print(f\"\\nGrid Search completed in {end_time_dt - start_time_dt:.2f} seconds.\")\n",
        "print(\"\\n Best parameter for Decision Tree:\", dt_grid_search.best_params_)\n",
        "print(f\"\\nBest cross-validation accuracy for Decision Tree: {dt_grid_search.best_score_:.4f}\")"
      ],
      "metadata": {
        "id": "5mVmLglDQXdK",
        "colab": {
          "base_uri": "https://localhost:8080/"
        },
        "outputId": "5cd99149-9a2f-41f8-e78c-fd334f4a8a18"
      },
      "execution_count": 42,
      "outputs": [
        {
          "output_type": "stream",
          "name": "stdout",
          "text": [
            "\n",
            "Performing Grid Search for Decision Tree...\n",
            "Fitting 5 folds for each of 32 candidates, totalling 160 fits\n",
            "\n",
            "Grid Search completed in 6474.52 seconds.\n",
            "\n",
            " Best parameter for Decision Tree: {'classifier__criterion': 'entropy', 'classifier__max_depth': 10, 'classifier__min_samples_leaf': 1, 'classifier__min_samples_split': 2, 'vectorizer__max_features': 10000, 'vectorizer__ngram_range': (1, 1)}\n",
            "\n",
            "Best cross-validation accuracy for Decision Tree: 0.7907\n"
          ]
        }
      ]
    },
    {
      "cell_type": "markdown",
      "source": [
        "**III. ADABOOST OPTIMIZATION**"
      ],
      "metadata": {
        "id": "9QLrQZY6vkSj"
      }
    },
    {
      "cell_type": "code",
      "source": [
        "#Defining AdaBoost Pipeline\n",
        "adaboost_pipeline = Pipeline([\n",
        "    ('preprocessor', TextPreprocessor()),\n",
        "    ('vectorizer', tfidf),\n",
        "    ('feature', feature_selection),\n",
        "    ('classifier', AdaBoostClassifier(random_state=42))\n",
        "])"
      ],
      "metadata": {
        "id": "_lIuggxcRkZh"
      },
      "execution_count": 43,
      "outputs": []
    },
    {
      "cell_type": "code",
      "source": [
        "#Parameters\n",
        "adaboost_param_grid = {\n",
        "'vectorizer__max_features': [1000, 10000],\n",
        "'vectorizer__ngram_range': [(1,1), (1,2)],\n",
        "'classifier__n_estimators': [50, 100],\n",
        "'classifier__learning_rate': [0.5, 1.0] }"
      ],
      "metadata": {
        "id": "VuivDt89R4dP"
      },
      "execution_count": 44,
      "outputs": []
    },
    {
      "cell_type": "code",
      "source": [
        "#GridSearch for AdaBoost\n",
        "adaboost_grid_search = GridSearchCV(adaboost_pipeline, adaboost_param_grid, cv=5, scoring='accuracy', n_jobs=1, verbose=1)\n",
        "print(\"\\nPerforming Grid Search for AdaBoost Classifier...\")\n",
        "start_time_adaboost = time.time()\n",
        "adaboost_grid_search.fit(X_train, y_train_)\n",
        "end_time_adaboost = time.time()\n",
        "print(f\"\\nGrid Search completed in {end_time_adaboost - start_time_adaboost:.2f} seconds.\")\n",
        "print(\"\\n Best parameter for AdaBoost:\", adaboost_grid_search.best_params_)\n",
        "print(f\"\\nBest cross-validation accuracy for AdaBoost: {adaboost_grid_search.best_score_:.4f}\")"
      ],
      "metadata": {
        "id": "Zd4m2U9ZS5Ua",
        "colab": {
          "base_uri": "https://localhost:8080/"
        },
        "outputId": "e0ea782d-ed88-4c0d-bb0b-8dde3ec9b8e4"
      },
      "execution_count": 45,
      "outputs": [
        {
          "output_type": "stream",
          "name": "stdout",
          "text": [
            "\n",
            "Performing Grid Search for AdaBoost Classifier...\n",
            "Fitting 5 folds for each of 16 candidates, totalling 80 fits\n",
            "\n",
            "Grid Search completed in 3288.24 seconds.\n",
            "\n",
            " Best parameter for AdaBoost: {'classifier__learning_rate': 1.0, 'classifier__n_estimators': 100, 'vectorizer__max_features': 10000, 'vectorizer__ngram_range': (1, 1)}\n",
            "\n",
            "Best cross-validation accuracy for AdaBoost: 0.8052\n"
          ]
        }
      ]
    },
    {
      "cell_type": "code",
      "source": [
        "#Store the best result\n",
        "svm_best = svm_grid_search.best_estimator_\n",
        "dt_best = dt_grid_search.best_estimator_\n",
        "adaboost_best = adaboost_grid_search.best_estimator_"
      ],
      "metadata": {
        "id": "bDpiP0j6SYB6"
      },
      "execution_count": 46,
      "outputs": []
    },
    {
      "cell_type": "markdown",
      "source": [
        "### **TASK 4**: CROSS-VALIDATION IMPLEMENTATION"
      ],
      "metadata": {
        "id": "f9EdbgAnv5lp"
      }
    },
    {
      "cell_type": "code",
      "source": [
        "# I. K-FOLD CROSS-VALIDATION\n",
        "k_fold = KFold(n_splits=5, shuffle=True, random_state=42)\n",
        "svm_kfold_scores = cross_val_score(svm_best, X_train, y_train_, cv=k_fold, scoring='accuracy', n_jobs = 1) #Cross validating using Kfold the best svm model\n",
        "dt_kfold_scores = cross_val_score(dt_best, X_train, y_train_, cv=k_fold, scoring='accuracy', n_jobs = 1) #Cross validating using Kfold the best desicion tree model\n",
        "adaboost_kfold_scores = cross_val_score(adaboost_best, X_train, y_train_, cv=k_fold, scoring='accuracy', n_jobs = 1)#Cross validating using Kfold the best Adaboost model"
      ],
      "metadata": {
        "id": "SqU0tHAJS4Tp"
      },
      "execution_count": 47,
      "outputs": []
    },
    {
      "cell_type": "code",
      "source": [
        "# II. STRATIFIED CROSS-VALIDATION\n",
        "stratified_kfold = StratifiedKFold(n_splits=5, shuffle=True, random_state=42)\n",
        "svm_stratified_cv_scores = cross_val_score(svm_best, X_train, y_train_, cv=stratified_kfold, scoring='accuracy', n_jobs = 1) #Cross validating using Stratified Kfold the best svm model\n",
        "dt_stratified_cv_scores = cross_val_score(dt_best, X_train, y_train_, cv=stratified_kfold, scoring='accuracy', n_jobs = 1) #Cross validating using Stratified Kfold the best desicion tree model\n",
        "adaboost_stratified_cv_scores = cross_val_score(adaboost_best, X_train, y_train_, cv=stratified_kfold, scoring='accuracy', n_jobs = 1)#Cross validating using Stratified Kfold the best Adaboost model"
      ],
      "metadata": {
        "id": "H1-0m_tAUaH6"
      },
      "execution_count": 48,
      "outputs": []
    },
    {
      "cell_type": "code",
      "source": [
        "#Results and Analysis\n",
        "print(\"\\n Cross-Validation Results on Training Data:\")\n",
        "print(f\"SVM (K-Fold): {svm_kfold_scores}\")\n",
        "print(f\" K-FOLD:       MEAN = {svm_kfold_scores.mean():.4f}, Standard deviation = {svm_kfold_scores.std():.4f}\")\n",
        "print(f\"SVM (Stratified K-Fold): {svm_stratified_cv_scores}\")\n",
        "print(f\"Stratified K-FOLD: MEAN = {svm_stratified_cv_scores.mean():.4f}, Standard deviation = {svm_stratified_cv_scores.std():.4f}\")\n",
        "print(f\"Decision Tree (K-Fold): {dt_kfold_scores}\")\n",
        "print(f\" K-FOLD:       MEAN = {dt_kfold_scores.mean():.4f}, Standard deviation = {dt_kfold_scores.std():.4f}\")\n",
        "print(f\"Decision Tree (Stratified K-Fold): {dt_stratified_cv_scores}\")\n",
        "print(f\"Stratified K-FOLD: MEAN = {dt_stratified_cv_scores.mean():.4f}, Standard deviation = {dt_stratified_cv_scores.std():.4f}\")\n",
        "print(f\"Adaboost (K-Fold): {adaboost_kfold_scores}\")\n",
        "print(f\" K-FOLD:       MEAN = {adaboost_kfold_scores.mean():.4f}, Standard deviation = {adaboost_kfold_scores.std():.4f}\")\n",
        "print(f\"Adaboost (Stratified K-Fold): {adaboost_stratified_cv_scores}\")\n",
        "print(f\"Stratified K-FOLD: MEAN = {adaboost_stratified_cv_scores.mean():.4f}, Standard deviation = {adaboost_stratified_cv_scores.std():.4f}\")"
      ],
      "metadata": {
        "id": "ndi35KrtYN3U",
        "colab": {
          "base_uri": "https://localhost:8080/"
        },
        "outputId": "984e361b-f2c5-48d2-9401-057e793751fd"
      },
      "execution_count": 49,
      "outputs": [
        {
          "output_type": "stream",
          "name": "stdout",
          "text": [
            "\n",
            " Cross-Validation Results on Training Data:\n",
            "SVM (K-Fold): [0.79564489 0.8241206  0.8204698  0.80704698 0.79362416]\n",
            " K-FOLD:       MEAN = 0.8082, Standard deviation = 0.0125\n",
            "SVM (Stratified K-Fold): [0.80737018 0.82579564 0.82718121 0.80033557 0.81375839]\n",
            "Stratified K-FOLD: MEAN = 0.8149, Standard deviation = 0.0104\n",
            "Decision Tree (K-Fold): [0.7839196  0.81072027 0.80033557 0.80872483 0.75838926]\n",
            " K-FOLD:       MEAN = 0.7924, Standard deviation = 0.0195\n",
            "Decision Tree (Stratified K-Fold): [0.79229481 0.80067002 0.81543624 0.79026846 0.7885906 ]\n",
            "Stratified K-FOLD: MEAN = 0.7975, Standard deviation = 0.0099\n",
            "Adaboost (K-Fold): [0.79564489 0.83752094 0.81879195 0.80201342 0.79026846]\n",
            " K-FOLD:       MEAN = 0.8088, Standard deviation = 0.0172\n",
            "Adaboost (Stratified K-Fold): [0.81072027 0.80234506 0.81711409 0.80536913 0.8204698 ]\n",
            "Stratified K-FOLD: MEAN = 0.8112, Standard deviation = 0.0068\n"
          ]
        }
      ]
    },
    {
      "cell_type": "code",
      "source": [
        "print(\"\"\"\n",
        "\\n Analysis of Cross-Validation:\n",
        "\n",
        "Based on the cross-validation results on the training data:\n",
        "\n",
        "1.  **Performance:**\n",
        "    - The optimized **SVM** achieved the highest average accuracy with Stratified K-Fold (0.8149), followed by **AdaBoost** (0.8112) and **Decision Tree** (0.7975).\n",
        "    - With regular K-Fold, **AdaBoost** slightly edges out **SVM** (0.8088 vs 0.8082), but **SVM** shows more consistent performance across fold types.\n",
        "\n",
        "2.  **Stability:**\n",
        "    - **AdaBoost** demonstrated the best stability with Stratified K-Fold (std: 0.0068), followed by **Decision Tree** (0.0099) and **SVM** (0.0104).\n",
        "    - However, **SVM** showed better stability with regular K-Fold (0.0125) compared to **AdaBoost** (0.0172).\n",
        "\n",
        "3.  **K-Fold vs. Stratified K-Fold Comparison:**\n",
        "    - **SVM**: Stratified K-Fold performed better (0.8149 vs 0.8082), showing improved performance when class distribution is maintained.\n",
        "    - **AdaBoost**: Both methods performed similarly (0.8112 vs 0.8088), indicating robustness to fold variations.\n",
        "    - **Decision Tree**: Minimal difference between methods (0.7975 vs 0.7924), but consistently the lowest performer.\n",
        "\n",
        "4.  **Cross-Validation vs. Test Performance:**\n",
        "    - **SVM**: Strong correlation between CV performance (0.8149) and test accuracy (0.8391).\n",
        "    - **AdaBoost**: Notable gap between CV performance (0.8112) and test accuracy (0.8164), suggesting some overfitting.\n",
        "    - **Decision Tree**: Consistent with expectations, maintaining similar relative performance.\n",
        "\n",
        "**Conclusion:**\n",
        "**SVM emerges as the most reliable model**, showing both strong cross-validation performance and excellent generalization to test data. The model demonstrates consistent behavior across different validation strategies and maintains its performance advantage in real-world testing scenarios.\n",
        "\"\"\")\n"
      ],
      "metadata": {
        "id": "Hmm-a2RIonJH",
        "colab": {
          "base_uri": "https://localhost:8080/"
        },
        "outputId": "2c970efd-ae59-453e-ea96-d40683dcfe0e"
      },
      "execution_count": 50,
      "outputs": [
        {
          "output_type": "stream",
          "name": "stdout",
          "text": [
            "\n",
            "\n",
            " Analysis of Cross-Validation:\n",
            "\n",
            "Based on the cross-validation results on the training data:\n",
            "\n",
            "1.  **Performance:**\n",
            "    - The optimized **SVM** achieved the highest average accuracy with Stratified K-Fold (0.8149), followed by **AdaBoost** (0.8112) and **Decision Tree** (0.7975).\n",
            "    - With regular K-Fold, **AdaBoost** slightly edges out **SVM** (0.8088 vs 0.8082), but **SVM** shows more consistent performance across fold types.\n",
            "\n",
            "2.  **Stability:**\n",
            "    - **AdaBoost** demonstrated the best stability with Stratified K-Fold (std: 0.0068), followed by **Decision Tree** (0.0099) and **SVM** (0.0104).\n",
            "    - However, **SVM** showed better stability with regular K-Fold (0.0125) compared to **AdaBoost** (0.0172).\n",
            "\n",
            "3.  **K-Fold vs. Stratified K-Fold Comparison:**\n",
            "    - **SVM**: Stratified K-Fold performed better (0.8149 vs 0.8082), showing improved performance when class distribution is maintained.\n",
            "    - **AdaBoost**: Both methods performed similarly (0.8112 vs 0.8088), indicating robustness to fold variations.\n",
            "    - **Decision Tree**: Minimal difference between methods (0.7975 vs 0.7924), but consistently the lowest performer.\n",
            "\n",
            "4.  **Cross-Validation vs. Test Performance:**\n",
            "    - **SVM**: Strong correlation between CV performance (0.8149) and test accuracy (0.8391).\n",
            "    - **AdaBoost**: Notable gap between CV performance (0.8112) and test accuracy (0.8164), suggesting some overfitting.\n",
            "    - **Decision Tree**: Consistent with expectations, maintaining similar relative performance.\n",
            "\n",
            "**Conclusion:**\n",
            "**SVM emerges as the most reliable model**, showing both strong cross-validation performance and excellent generalization to test data. The model demonstrates consistent behavior across different validation strategies and maintains its performance advantage in real-world testing scenarios.\n",
            "\n"
          ]
        }
      ]
    },
    {
      "cell_type": "markdown",
      "source": [
        "### **TASK 6**: MODELS EVALUATION AND ANALYSIS"
      ],
      "metadata": {
        "id": "HfbsE2owwyyd"
      }
    },
    {
      "cell_type": "code",
      "source": [
        "#I. PERFORMANCE METRICS:"
      ],
      "metadata": {
        "id": "sabSxmrNcsLq"
      },
      "execution_count": 51,
      "outputs": []
    },
    {
      "cell_type": "code",
      "source": [
        "print(\"\\n Performance Metrics:\")\n",
        "def evaluate_model(name, model):            #Creates precision,accuracy scores and f1 scores\n",
        "    y_pred = model.predict(X_test)\n",
        "    acc = accuracy_score(y_test, y_pred)\n",
        "    precision, recall, f1, _ = precision_recall_fscore_support(y_test, y_pred, average='weighted')\n",
        "    f1_macro = f1_score(y_test, y_pred, average='macro')\n",
        "    print(f\"\\n{name} Evaluation:\")\n",
        "    print(f\"Accuracy: {acc:.4f}\")\n",
        "    print(f\"Precision: {precision:.4f}\")\n",
        "    print(f\"Recall: {recall:.4f}\")\n",
        "    print(f\"F1 Score(Weighted): {f1:.4f}\")\n",
        "    print(f\"F1 Score(Macro): {f1_macro:.4f}\")\n",
        "    print(\"\\nClassification Report:\\n\", classification_report(y_test, y_pred))\n",
        "\n",
        "    cm = confusion_matrix(y_test, y_pred)         #Plots confusion matrix\n",
        "    sns.heatmap(cm, annot=True, fmt='d', cmap='Blues')\n",
        "    plt.title(f\"Confusion Matrix - {name}\")\n",
        "    plt.xlabel(\"Predicted\")\n",
        "    plt.ylabel(\"Actual\")\n",
        "    plt.show()\n",
        "\n",
        "    print()\n",
        "\n",
        "    if hasattr(model, \"predict_proba\"):                   #if it has the attribute then plots ROC curve\n",
        "        y_probs = model.predict_proba(X_test)[:,1]\n",
        "        fpr, tpr, _ = roc_curve(y_test, y_probs)          #tpr - true postive rate, fpr - false positive rate\n",
        "        auc_score = roc_auc_score(y_test, y_probs)\n",
        "        plt.plot(fpr, tpr, label=f\"{name} (AUC = {auc_score:.2f})\")\n",
        "        plt.plot([0,1],[0,1],'k--')\n",
        "        plt.xlabel('False Positive Rate')\n",
        "        plt.ylabel('True Positive Rate')\n",
        "        plt.title('ROC Curve')\n",
        "        plt.legend()\n",
        "        plt.show()\n",
        "\n",
        "evaluate_model(\"Best SVM\", svm_best)\n",
        "evaluate_model(\"Best Decision Tree\", dt_best)\n",
        "evaluate_model(\"Best Adaboost\", adaboost_best)"
      ],
      "metadata": {
        "id": "Lnt7roqbjZsQ",
        "colab": {
          "base_uri": "https://localhost:8080/",
          "height": 1000
        },
        "outputId": "7c4b3de8-464c-4543-91f2-98030d24d1b9"
      },
      "execution_count": 52,
      "outputs": [
        {
          "output_type": "stream",
          "name": "stdout",
          "text": [
            "\n",
            " Performance Metrics:\n",
            "\n",
            "Best SVM Evaluation:\n",
            "Accuracy: 0.8391\n",
            "Precision: 0.8411\n",
            "Recall: 0.8391\n",
            "F1 Score(Weighted): 0.8389\n",
            "F1 Score(Macro): 0.8389\n",
            "\n",
            "Classification Report:\n",
            "               precision    recall  f1-score   support\n",
            "\n",
            "           0       0.82      0.88      0.84       373\n",
            "           1       0.87      0.80      0.83       373\n",
            "\n",
            "    accuracy                           0.84       746\n",
            "   macro avg       0.84      0.84      0.84       746\n",
            "weighted avg       0.84      0.84      0.84       746\n",
            "\n"
          ]
        },
        {
          "output_type": "display_data",
          "data": {
            "text/plain": [
              "<Figure size 640x480 with 2 Axes>"
            ],
            "image/png": "[encoded data removed]"
          },
          "metadata": {}
        },
        {
          "output_type": "stream",
          "name": "stdout",
          "text": [
            "\n"
          ]
        },
        {
          "output_type": "display_data",
          "data": {
            "text/plain": [
              "<Figure size 640x480 with 1 Axes>"
            ],
            "image/png": "[encoded data removed]"
          },
          "metadata": {}
        },
        {
          "output_type": "stream",
          "name": "stdout",
          "text": [
            "\n",
            "Best Decision Tree Evaluation:\n",
            "Accuracy: 0.8217\n",
            "Precision: 0.8237\n",
            "Recall: 0.8217\n",
            "F1 Score(Weighted): 0.8214\n",
            "F1 Score(Macro): 0.8214\n",
            "\n",
            "Classification Report:\n",
            "               precision    recall  f1-score   support\n",
            "\n",
            "           0       0.80      0.86      0.83       373\n",
            "           1       0.85      0.78      0.81       373\n",
            "\n",
            "    accuracy                           0.82       746\n",
            "   macro avg       0.82      0.82      0.82       746\n",
            "weighted avg       0.82      0.82      0.82       746\n",
            "\n"
          ]
        },
        {
          "output_type": "display_data",
          "data": {
            "text/plain": [
              "<Figure size 640x480 with 2 Axes>"
            ],
            "image/png": "[encoded data removed]"
          },
          "metadata": {}
        },
        {
          "output_type": "stream",
          "name": "stdout",
          "text": [
            "\n"
          ]
        },
        {
          "output_type": "display_data",
          "data": {
            "text/plain": [
              "<Figure size 640x480 with 1 Axes>"
            ],
            "image/png": "[encoded data removed]"
          },
          "metadata": {}
        },
        {
          "output_type": "stream",
          "name": "stdout",
          "text": [
            "\n",
            "Best Adaboost Evaluation:\n",
            "Accuracy: 0.8164\n",
            "Precision: 0.8188\n",
            "Recall: 0.8164\n",
            "F1 Score(Weighted): 0.8160\n",
            "F1 Score(Macro): 0.8160\n",
            "\n",
            "Classification Report:\n",
            "               precision    recall  f1-score   support\n",
            "\n",
            "           0       0.79      0.86      0.82       373\n",
            "           1       0.85      0.77      0.81       373\n",
            "\n",
            "    accuracy                           0.82       746\n",
            "   macro avg       0.82      0.82      0.82       746\n",
            "weighted avg       0.82      0.82      0.82       746\n",
            "\n"
          ]
        },
        {
          "output_type": "display_data",
          "data": {
            "text/plain": [
              "<Figure size 640x480 with 2 Axes>"
            ],
            "image/png": "[encoded data removed]"
          },
          "metadata": {}
        },
        {
          "output_type": "stream",
          "name": "stdout",
          "text": [
            "\n"
          ]
        },
        {
          "output_type": "display_data",
          "data": {
            "text/plain": [
              "<Figure size 640x480 with 1 Axes>"
            ],
            "image/png": "[encoded data removed]"
          },
          "metadata": {}
        }
      ]
    },
    {
      "cell_type": "code",
      "source": [
        "#FEATURE IMPORTANCE (FOR DECISION TREE)\n",
        "try:\n",
        "    # Extract the vectorizer, feature selector, and classifier from the DT pipeline\n",
        "    vectorizer = dt_best.named_steps['vectorizer']\n",
        "    selector = dt_best.named_steps['feature']\n",
        "    classifier = dt_best.named_steps['classifier']\n",
        "\n",
        "    # Get all feature names from the vectorizer\n",
        "    all_feature_names = np.array(vectorizer.get_feature_names_out())\n",
        "    # Get the mask of selected features from SelectKBest\n",
        "    selected_features_mask = selector.get_support()\n",
        "    # Get the names of the selected features\n",
        "    selected_feature_names = all_feature_names[selected_features_mask]\n",
        "\n",
        "    # Get feature importances from the classifier\n",
        "    importances = classifier.feature_importances_\n",
        "\n",
        "    # Create a DataFrame for feature importances\n",
        "    importance_df = pd.DataFrame({'Feature': selected_feature_names, 'Importance': importances})\n",
        "    importance_df = importance_df.sort_values('Importance', ascending=False).head(20)\n",
        "\n",
        "    plt.figure(figsize=(12, 8))\n",
        "    sns.barplot(x='Importance', y='Feature', data=importance_df, palette='viridis')\n",
        "    plt.title('Top 20 Most Important Features for Decision Tree Model')\n",
        "    plt.xlabel('Importance')\n",
        "    plt.ylabel('Feature')\n",
        "    plt.show()\n",
        "except Exception as e:\n",
        "  print(f\"\\nCould not generate feature importance plot for Decision Tree. Error: {e}\")"
      ],
      "metadata": {
        "id": "UWfJs0XUd_0V",
        "colab": {
          "base_uri": "https://localhost:8080/",
          "height": 522
        },
        "outputId": "448e321b-3094-4a50-aadc-b56ef0658e07"
      },
      "execution_count": 53,
      "outputs": [
        {
          "output_type": "stream",
          "name": "stderr",
          "text": [
            "/tmp/ipython-input-53-1437425142.py:23: FutureWarning: \n",
            "\n",
            "Passing `palette` without assigning `hue` is deprecated and will be removed in v0.14.0. Assign the `y` variable to `hue` and set `legend=False` for the same effect.\n",
            "\n",
            "  sns.barplot(x='Importance', y='Feature', data=importance_df, palette='viridis')\n"
          ]
        },
        {
          "output_type": "display_data",
          "data": {
            "text/plain": [
              "<Figure size 1200x800 with 1 Axes>"
            ],
            "image/png": "[encoded data removed]"
          },
          "metadata": {}
        }
      ]
    },
    {
      "cell_type": "markdown",
      "source": [
        "### **FINAL MODEL SELECTION**"
      ],
      "metadata": {
        "id": "XbOjnY9VyA3T"
      }
    },
    {
      "cell_type": "code",
      "source": [
        "print(\"\"\"\n",
        "Final Model Selection:\n",
        "\n",
        "1.  **Performance on Test Set:**\n",
        "    - **SVM** achieved the highest test accuracy (0.8391), outperforming **Decision Tree (0.8217)** and **AdaBoost (0.8164)**.\n",
        "    - **SVM** also demonstrated the best F1 scores (0.8389 weighted/macro), showing superior overall performance.\n",
        "    - All models showed reasonable precision-recall balance, with **SVM** being the most consistent.\n",
        "\n",
        "2.  **Detailed Performance Analysis:**\n",
        "    - **SVM**: Highest accuracy (83.91%) with balanced precision (84.11%) and recall (83.91%). Strong performance on both classes.\n",
        "    - **Decision Tree**: Moderate accuracy (82.17%) with decent precision-recall balance but lower overall performance.\n",
        "    - **AdaBoost**: Lowest test accuracy (81.64%) despite previous validation performance, indicating potential overfitting.\n",
        "\n",
        "3.  **Class-wise Performance:**\n",
        "    - **SVM** showed the most balanced performance: Human-Written (F1: 0.84) vs AI (F1: 0.83)\n",
        "    - **Decision Tree** and **AdaBoost** showed similar patterns but with lower overall scores\n",
        "    - All models performed slightly better on detecting AI-generated content (higher precision) than human-written content\n",
        "\n",
        "4.  **Conclusion:**\n",
        "    - **SVM clearly emerges as the best performer** on the final test set, demonstrating superior generalization capability.\n",
        "    - The model maintains consistent performance across different evaluation metrics and both target classes.\n",
        "    - **SVM's stability** from cross-validation translated well to real-world test performance.\n",
        "\n",
        "**Selected Final Model**: **SVM**, due to its highest test accuracy (83.91%), best F1 scores, balanced precision-recall performance, and demonstrated stability across validation and test phases.\n",
        "\"\"\")\n"
      ],
      "metadata": {
        "id": "1ccJj7AstmhY",
        "colab": {
          "base_uri": "https://localhost:8080/"
        },
        "outputId": "632d3f9f-a069-4c03-ab05-279dfd5ce096"
      },
      "execution_count": 54,
      "outputs": [
        {
          "output_type": "stream",
          "name": "stdout",
          "text": [
            "\n",
            "Final Model Selection:\n",
            "\n",
            "1.  **Performance on Test Set:**\n",
            "    - **SVM** achieved the highest test accuracy (0.8391), outperforming **Decision Tree (0.8217)** and **AdaBoost (0.8164)**.\n",
            "    - **SVM** also demonstrated the best F1 scores (0.8389 weighted/macro), showing superior overall performance.\n",
            "    - All models showed reasonable precision-recall balance, with **SVM** being the most consistent.\n",
            "\n",
            "2.  **Detailed Performance Analysis:**\n",
            "    - **SVM**: Highest accuracy (83.91%) with balanced precision (84.11%) and recall (83.91%). Strong performance on both classes.\n",
            "    - **Decision Tree**: Moderate accuracy (82.17%) with decent precision-recall balance but lower overall performance.\n",
            "    - **AdaBoost**: Lowest test accuracy (81.64%) despite previous validation performance, indicating potential overfitting.\n",
            "\n",
            "3.  **Class-wise Performance:**\n",
            "    - **SVM** showed the most balanced performance: Human-Written (F1: 0.84) vs AI (F1: 0.83)\n",
            "    - **Decision Tree** and **AdaBoost** showed similar patterns but with lower overall scores\n",
            "    - All models performed slightly better on detecting AI-generated content (higher precision) than human-written content\n",
            "\n",
            "4.  **Conclusion:**\n",
            "    - **SVM clearly emerges as the best performer** on the final test set, demonstrating superior generalization capability.\n",
            "    - The model maintains consistent performance across different evaluation metrics and both target classes.\n",
            "    - **SVM's stability** from cross-validation translated well to real-world test performance.\n",
            "\n",
            "**Selected Final Model**: **SVM**, due to its highest test accuracy (83.91%), best F1 scores, balanced precision-recall performance, and demonstrated stability across validation and test phases.\n",
            "\n"
          ]
        }
      ]
    },
    {
      "cell_type": "markdown",
      "source": [
        "## **6. Model saving for Streamlit deployment**"
      ],
      "metadata": {
        "id": "m7yI4WV5wrt8"
      }
    },
    {
      "cell_type": "code",
      "source": [
        "#Model Comparison Visualization for Streamlit\n",
        "model_scores = {\n",
        "    \"SVM\": svm_stratified_cv_scores.mean(),\n",
        "    \"Decision Tree\": dt_stratified_cv_scores.mean(),\n",
        "    \"AdaBoost\": adaboost_stratified_cv_scores.mean()\n",
        "}\n",
        "\n",
        "# Bar plot comparison\n",
        "plt.figure(figsize=(8, 5))\n",
        "sns.barplot(x=list(model_scores.keys()), y=list(model_scores.values()), palette='pastel')\n",
        "plt.title(\"Model Accuracy Comparison\")\n",
        "plt.ylabel(\"Mean Accuracy (Cross-Validation)\")\n",
        "plt.ylim(0.7, 1.0)\n",
        "plt.show()"
      ],
      "metadata": {
        "id": "yACETpClWnt4",
        "colab": {
          "base_uri": "https://localhost:8080/",
          "height": 507
        },
        "outputId": "e813de9a-48a0-4fd4-a047-b252a1e9baee"
      },
      "execution_count": 55,
      "outputs": [
        {
          "output_type": "stream",
          "name": "stderr",
          "text": [
            "/tmp/ipython-input-55-2265591724.py:10: FutureWarning: \n",
            "\n",
            "Passing `palette` without assigning `hue` is deprecated and will be removed in v0.14.0. Assign the `x` variable to `hue` and set `legend=False` for the same effect.\n",
            "\n",
            "  sns.barplot(x=list(model_scores.keys()), y=list(model_scores.values()), palette='pastel')\n"
          ]
        },
        {
          "output_type": "display_data",
          "data": {
            "text/plain": [
              "<Figure size 800x500 with 1 Axes>"
            ],
            "image/png": "[encoded data removed]"
          },
          "metadata": {}
        }
      ]
    },
    {
      "cell_type": "markdown",
      "source": [
        "**1. SVM**"
      ],
      "metadata": {
        "id": "vHgHbLCbP_DZ"
      }
    },
    {
      "cell_type": "code",
      "source": [
        "#Compare Model Performance and save the best model\n",
        "\n",
        "svm_accuracy = accuracy_score(y_test, svm_best.predict(X_test))\n",
        "dt_accuracy = accuracy_score(y_test, dt_best.predict(X_test))\n",
        "adaboost_accuracy = accuracy_score(y_test, adaboost_best.predict(X_test))\n",
        "\n",
        "print(\"Model Performance Comparison:\")\n",
        "print(\"=\" * 40)\n",
        "print(f\"SVM:                      {svm_accuracy:.4f}\")\n",
        "print(f\"Decision Tree:            {dt_accuracy:.4f}\")\n",
        "print(f\"AdaBoost:                 {adaboost_accuracy:.4f}\")\n",
        "\n",
        "# Determine the best model\n",
        "models = {\n",
        "    'SVM': (svm_best, svm_accuracy),\n",
        "    'Decision Tree': (dt_best, dt_accuracy),\n",
        "    'AdaBoost': (adaboost_best, adaboost_accuracy)\n",
        "}\n",
        "\n",
        "final_model_name = max(models.keys(), key=lambda k: models[k][1])\n",
        "best_model = models[final_model_name][0]\n",
        "best_accuracy = models[final_model_name][1]\n",
        "\n",
        "print(f\"\\nBest Model: {final_model_name}\")\n",
        "print(f\"Best Accuracy: {best_accuracy:.4f}\")"
      ],
      "metadata": {
        "id": "y6N0nNxHzMmH",
        "colab": {
          "base_uri": "https://localhost:8080/"
        },
        "outputId": "980f7422-1a4f-44a6-e6e6-3efd36ece203"
      },
      "execution_count": 56,
      "outputs": [
        {
          "output_type": "stream",
          "name": "stdout",
          "text": [
            "Model Performance Comparison:\n",
            "========================================\n",
            "SVM:                      0.8391\n",
            "Decision Tree:            0.8217\n",
            "AdaBoost:                 0.8164\n",
            "\n",
            "Best Model: SVM\n",
            "Best Accuracy: 0.8391\n"
          ]
        }
      ]
    },
    {
      "cell_type": "code",
      "source": [
        "# Extract best vectorizer parameters from the best model's pipeline\n",
        "best_vectorizer = best_model.named_steps['vectorizer']\n",
        "best_max_features = best_vectorizer.max_features\n",
        "best_ngram_range = best_vectorizer.ngram_range\n",
        "best_min_df = best_vectorizer.min_df\n",
        "best_max_df = best_vectorizer.max_df\n",
        "best_stop_words = best_vectorizer.stop_words"
      ],
      "metadata": {
        "id": "woOc-VqHcL2D"
      },
      "execution_count": 133,
      "outputs": []
    },
    {
      "cell_type": "code",
      "source": [
        "# print(\"Step 1: Creating ML pipeline for deployment...\")\n",
        "# # Create a complete pipeline that includes preprocessing and prediction\n",
        "# if final_model_name == \"SVM\":\n",
        "#     final_pipeline = Pipeline([\n",
        "#         ('tfidf', TfidfVectorizer(\n",
        "#             max_features=10000,   #Using the best parameters from grid search\n",
        "#             ngram_range=(1, 1),\n",
        "#             min_df=2,\n",
        "#             max_df=0.95,\n",
        "#             stop_words='english'\n",
        "#         )),\n",
        "#         ('classifier', SVC(C=10,\n",
        "#                           gamma='scale',\n",
        "#                           kernel= 'rbf',\n",
        "#                           probability=True,\n",
        "#                           random_state=42\n",
        "#                           ))\n",
        "#     ])\n",
        "\n",
        "# elif final_model_name == \"Adaboost\":\n",
        "#     final_pipeline = Pipeline([\n",
        "#         ('tfidf', TfidfVectorizer(\n",
        "#             max_features=10000,\n",
        "#             ngram_range=(1, 1),\n",
        "#             min_df=2,\n",
        "#             max_df=0.95,\n",
        "#             stop_words='english'\n",
        "#         )),\n",
        "#         ('classifier', AdaBoostClassifier(learning_rate= 1.0,\n",
        "#                                           n_estimators= 100,\n",
        "#                                           random_state=42\n",
        "#                                            ))\n",
        "#     ])\n",
        "# else:\n",
        "#     final_pipeline_name = Pipeline([\n",
        "#         ('tfidf', TfidfVectorizer(\n",
        "#             max_features=10000,\n",
        "#             ngram_range=(1, 1),\n",
        "#             min_df=2,\n",
        "#             max_df=0.95,\n",
        "#             stop_words='english'\n",
        "#         )),\n",
        "#         ('classifier', DecisionTreeClassifier(criterion= 'entropy',\n",
        "#                                      max_depth= 10,\n",
        "#                                      min_samples_leaf= 1,\n",
        "#                                      min_samples_split= 2,\n",
        "#                                      random_state=42\n",
        "#                                      ))\n",
        "#     ])\n",
        "\n",
        "# print(\"Pipeline created with steps:\")\n",
        "# for name, step in final_pipeline.steps:\n",
        "#     print(f\"  {name}: {step.__class__.__name__}\")\n"
      ],
      "metadata": {
        "id": "NYrjq8Z7ZuXh"
      },
      "execution_count": 134,
      "outputs": []
    },
    {
      "cell_type": "code",
      "source": [
        "print(\"Step 1: Creating ML pipeline for deployment...\")\n",
        "# Create a complete pipeline that includes preprocessing and prediction\n",
        "final_pipeline = Pipeline([\n",
        "    ('tfidf', TfidfVectorizer(\n",
        "        max_features=best_max_features,\n",
        "        ngram_range=best_ngram_range,\n",
        "        min_df=best_min_df,\n",
        "        max_df=best_max_df,\n",
        "        stop_words='english'\n",
        "    )),\n",
        "    ('classifier', best_model.named_steps['classifier'])  # reusing fitted classifier\n",
        "])\n",
        "print(\"Pipeline created with steps:\")\n",
        "for name, step in final_pipeline.steps:\n",
        "    print(f\"  {name}: {step.__class__.__name__}\")"
      ],
      "metadata": {
        "colab": {
          "base_uri": "https://localhost:8080/"
        },
        "id": "ZgfF2jIIc8Qm",
        "outputId": "a932697f-56f0-4eb0-ddd4-ef3a50aaf602"
      },
      "execution_count": 135,
      "outputs": [
        {
          "output_type": "stream",
          "name": "stdout",
          "text": [
            "Step 1: Creating ML pipeline for deployment...\n",
            "Pipeline created with steps:\n",
            "  tfidf: TfidfVectorizer\n",
            "  classifier: SVC\n"
          ]
        }
      ]
    },
    {
      "cell_type": "code",
      "source": [
        "# Retrain these final pipelines on the All training dataset\n",
        "\n",
        "print(\"\\nRetraining pipelines on the full dataset...\")\n",
        "# Train pipeline on the training set again\n",
        "final_pipeline.fit(X_train, y_train_)\n",
        "\n",
        "# Test pipeline performance on validation set\n",
        "pipeline_predictions = final_pipeline.predict(X_test)\n",
        "pipeline_accuracy = metrics.accuracy_score(y_test, pipeline_predictions)\n",
        "\n",
        "print(\"Final Pipeline Results:\")\n",
        "print(f\"Validation accuracy: {pipeline_accuracy:.4f}\")\n",
        "\n",
        "# Show detailed classification report\n",
        "print(\"\\nDetailed Classification Report:\")\n",
        "target_names = ['Human-Written', 'AI']\n",
        "classification_report = metrics.classification_report(y_test, pipeline_predictions, target_names=target_names)\n",
        "print(classification_report)\n"
      ],
      "metadata": {
        "id": "Pqi5y7UC1XMa",
        "colab": {
          "base_uri": "https://localhost:8080/"
        },
        "outputId": "d2061f93-7ead-4e3e-ca2e-701408a18878"
      },
      "execution_count": 140,
      "outputs": [
        {
          "output_type": "stream",
          "name": "stdout",
          "text": [
            "\n",
            "Retraining pipelines on the full dataset...\n",
            "Final Pipeline Results:\n",
            "Validation accuracy: 0.9437\n",
            "\n",
            "Detailed Classification Report:\n",
            "               precision    recall  f1-score   support\n",
            "\n",
            "Human-Written       0.94      0.95      0.94       373\n",
            "           AI       0.95      0.94      0.94       373\n",
            "\n",
            "     accuracy                           0.94       746\n",
            "    macro avg       0.94      0.94      0.94       746\n",
            " weighted avg       0.94      0.94      0.94       746\n",
            "\n"
          ]
        }
      ]
    },
    {
      "cell_type": "code",
      "source": [
        "#Save Models for Streamlit Deployment\n",
        "\n",
        "print(\"Saving models for Streamlit deployment...\")\n",
        "\n",
        "# Save the complete pipeline (includes TF-IDF + classifier)\n",
        "pipeline_filename = 'Human_Vs_AI_Written_pipeline.pkl'\n",
        "joblib.dump(final_pipeline, pipeline_filename)\n",
        "\n",
        "# Also save individual components for flexibility\n",
        "fitted_vectorizer = final_pipeline.named_steps['tfidf']\n",
        "tfidf_filename = 'tfidf_vectorizer.pkl'\n",
        "joblib.dump(fitted_vectorizer, tfidf_filename)\n",
        "\n",
        "model_filename = f'optimized_{final_model_name.lower().replace(\" \", \"_\")}_model.pkl'\n",
        "fitted_model = final_pipeline.named_steps['classifier']\n",
        "joblib.dump(best_model, model_filename)\n",
        "\n",
        "\n",
        "print(\"Models saved successfully!\")\n",
        "print(f\"Complete pipeline: {pipeline_filename}\")\n",
        "print(f\"TF-IDF vectorizer: {tfidf_filename}\")\n",
        "print(f\"Best model: {model_filename}\")"
      ],
      "metadata": {
        "id": "vBOz_Xhh2pu1",
        "colab": {
          "base_uri": "https://localhost:8080/"
        },
        "outputId": "9e394ee0-c672-4898-957e-ba066b944348"
      },
      "execution_count": 141,
      "outputs": [
        {
          "output_type": "stream",
          "name": "stdout",
          "text": [
            "Saving models for Streamlit deployment...\n",
            "Models saved successfully!\n",
            "Complete pipeline: Human_Vs_AI_Written_pipeline.pkl\n",
            "TF-IDF vectorizer: tfidf_vectorizer.pkl\n",
            "Best model: optimized_svm_model.pkl\n"
          ]
        }
      ]
    },
    {
      "cell_type": "markdown",
      "source": [
        "**2. Adaboost**"
      ],
      "metadata": {
        "id": "Bit4Q1LJ25a1"
      }
    },
    {
      "cell_type": "code",
      "source": [
        "# Fit TF-IDF on training data and transform both sets\n",
        "print(\"Converting text to numerical features using TF-IDF...\")\n",
        "\n",
        "X_train_tfidf = tfidf.fit_transform(X_train)\n",
        "X_test_tfidf = tfidf.transform(X_test)\n",
        "\n",
        "print(\"TF-IDF transformation completed!\")\n",
        "print(f\"Training matrix shape: {X_train_tfidf.shape}\")\n",
        "print(f\"Validation matrix shape: {X_test_tfidf.shape}\")"
      ],
      "metadata": {
        "id": "yQHKjpAL5N2K",
        "colab": {
          "base_uri": "https://localhost:8080/"
        },
        "outputId": "bb5bfeda-9674-4257-b233-9c977a3f43b2"
      },
      "execution_count": 142,
      "outputs": [
        {
          "output_type": "stream",
          "name": "stdout",
          "text": [
            "Converting text to numerical features using TF-IDF...\n",
            "TF-IDF transformation completed!\n",
            "Training matrix shape: (2982, 2000)\n",
            "Validation matrix shape: (746, 2000)\n"
          ]
        }
      ]
    },
    {
      "cell_type": "code",
      "source": [
        "# Create and train the Adaboost classifier\n",
        "# Create full pipeline\n",
        "adaboost_pipeline = Pipeline([\n",
        "    ('tfidf', TfidfVectorizer(\n",
        "        max_features=1000,\n",
        "        ngram_range=(1, 2),\n",
        "        min_df=2,\n",
        "        max_df=0.95,\n",
        "        stop_words='english'\n",
        "    )),\n",
        "    ('classifier', AdaBoostClassifier(\n",
        "        estimator=DecisionTreeClassifier(max_depth=5),\n",
        "        learning_rate=1.0,\n",
        "        n_estimators=100,\n",
        "        random_state=42\n",
        "    ))\n",
        "])\n",
        "\n",
        "# Fit the pipeline on raw text data X_train and labels y_train_\n",
        "print(\"Fitting AdaBoost pipeline on raw training data...\")\n",
        "adaboost_pipeline.fit(X_train, y_train_)\n",
        "\n",
        "# Test on validation set\n",
        "preds = adaboost_pipeline.predict(X_test)\n",
        "accuracy = metrics.accuracy_score(y_test, preds)\n",
        "print(f\"Validation accuracy: {accuracy:.4f}\")\n",
        "\n",
        "print(\"\\nDetailed Classification Report:\")\n",
        "target_names = ['Human-Written', 'AI']\n",
        "classification_report = metrics.classification_report(y_test, preds, target_names=target_names)\n",
        "print(classification_report)\n",
        "\n",
        "# Save the entire fitted pipeline\n",
        "joblib.dump(adaboost_pipeline, 'adaboost_pipeline.pkl')\n",
        "print(\"AdaBoost pipeline saved!\")"
      ],
      "metadata": {
        "id": "GmRnWKmd2_4y",
        "colab": {
          "base_uri": "https://localhost:8080/"
        },
        "outputId": "a81ea044-dc7a-4970-e042-485bff3c01d1"
      },
      "execution_count": 180,
      "outputs": [
        {
          "output_type": "stream",
          "name": "stdout",
          "text": [
            "Fitting AdaBoost pipeline on raw training data...\n",
            "Validation accuracy: 0.9410\n",
            "\n",
            "Detailed Classification Report:\n",
            "               precision    recall  f1-score   support\n",
            "\n",
            "Human-Written       0.94      0.94      0.94       373\n",
            "           AI       0.94      0.94      0.94       373\n",
            "\n",
            "     accuracy                           0.94       746\n",
            "    macro avg       0.94      0.94      0.94       746\n",
            " weighted avg       0.94      0.94      0.94       746\n",
            "\n",
            "AdaBoost pipeline saved!\n"
          ]
        }
      ]
    },
    {
      "cell_type": "markdown",
      "source": [
        "**3. Decision Tree**"
      ],
      "metadata": {
        "id": "qXckLW3-34gA"
      }
    },
    {
      "cell_type": "code",
      "source": [
        "# Create and train the Decision Tree classifier\n",
        "print(\"Creating Decision Tree classifier...\")\n",
        "dt_pipeline = Pipeline([\n",
        "    ('tfidf', TfidfVectorizer(\n",
        "        max_features=2000,\n",
        "        ngram_range=(1, 2),\n",
        "        min_df=2,\n",
        "        max_df=0.95,\n",
        "        stop_words='english'\n",
        "    )),\n",
        "    ('classifier', DecisionTreeClassifier(\n",
        "        criterion='entropy',\n",
        "        max_depth=10,\n",
        "        min_samples_leaf=1,\n",
        "        min_samples_split=2,\n",
        "        random_state=42\n",
        "    ))\n",
        "])\n",
        "\n",
        "print(\"Fitting Decision Tree pipeline on raw training data...\")\n",
        "dt_pipeline.fit(X_train, y_train_)\n",
        "\n",
        "preds_dt = dt_pipeline.predict(X_test)\n",
        "accuracy_dt = metrics.accuracy_score(y_test, preds_dt)\n",
        "print(f\"Validation accuracy: {accuracy_dt:.4f}\")\n",
        "print(\"Predicted class counts:\", np.bincount(preds_dt))\n",
        "print(\"\\nDetailed Classification Report:\")\n",
        "target_names = ['Human-Written', 'AI']\n",
        "classification_report = metrics.classification_report(y_test, preds_dt, target_names=target_names)\n",
        "print(classification_report)\n",
        "joblib.dump(dt_pipeline, 'decision_tree_pipeline.pkl')\n",
        "print(\"Decision Tree pipeline saved!\")"
      ],
      "metadata": {
        "id": "erza4zPC4J1H",
        "colab": {
          "base_uri": "https://localhost:8080/"
        },
        "outputId": "cc7ea701-68ab-49b9-88a8-dd1ca822669b"
      },
      "execution_count": 203,
      "outputs": [
        {
          "output_type": "stream",
          "name": "stdout",
          "text": [
            "Creating Decision Tree classifier...\n",
            "Fitting Decision Tree pipeline on raw training data...\n",
            "Validation accuracy: 0.8097\n",
            "Predicted class counts: [441 305]\n",
            "\n",
            "Detailed Classification Report:\n",
            "               precision    recall  f1-score   support\n",
            "\n",
            "Human-Written       0.76      0.90      0.83       373\n",
            "           AI       0.88      0.72      0.79       373\n",
            "\n",
            "     accuracy                           0.81       746\n",
            "    macro avg       0.82      0.81      0.81       746\n",
            " weighted avg       0.82      0.81      0.81       746\n",
            "\n",
            "Decision Tree pipeline saved!\n"
          ]
        }
      ]
    },
    {
      "cell_type": "markdown",
      "source": [
        "## **Test the Sample Text on the Saved Models**"
      ],
      "metadata": {
        "id": "yonBmhMO5WLo"
      }
    },
    {
      "cell_type": "code",
      "source": [
        "# Test with example texts\n",
        "test_texts = [\n",
        "    \"The intricate tapestry of quantum mechanics reveals a universe governed by probabilistic outcomes rather than deterministic certainties, fundamentally reshaping our understanding of reality.\", # AI-sounding\n",
        "    \"I went to the store and bought some milk. It was a pretty normal Tuesday, nothing much happened. I'm kinda tired now.\", # Human-sounding\n",
        "    \"Leveraging synergistic paradigms, our strategic framework aims to optimize cross-functional efficiencies, thereby maximizing stakeholder value and fostering a culture of disruptive innovation.\", # AI-sounding\n",
        "    \"My dog is the best, he's so fluffy and silly. We played fetch in the park today and he got all muddy but I don't even care.\", # Human-sounding\n",
        "    \"The algorithm's architecture, a deep convolutional neural network, is specifically designed to parse and classify high-dimensional image data with unparalleled accuracy.\" # AI-sounding\n",
        "]"
      ],
      "metadata": {
        "id": "ZO--wlrc5dCx"
      },
      "execution_count": 204,
      "outputs": []
    },
    {
      "cell_type": "code",
      "source": [
        "print(f\"Prepared {len(test_texts)} test texts for evaluation\")\n",
        "for i, text in enumerate(test_texts, 1):\n",
        "    print(f\"{i}. {text}\")"
      ],
      "metadata": {
        "id": "NhnXO_8n5sb7",
        "colab": {
          "base_uri": "https://localhost:8080/"
        },
        "outputId": "c7c62b6d-1320-4f25-d2f4-bc540e0f51f9"
      },
      "execution_count": 205,
      "outputs": [
        {
          "output_type": "stream",
          "name": "stdout",
          "text": [
            "Prepared 5 test texts for evaluation\n",
            "1. The intricate tapestry of quantum mechanics reveals a universe governed by probabilistic outcomes rather than deterministic certainties, fundamentally reshaping our understanding of reality.\n",
            "2. I went to the store and bought some milk. It was a pretty normal Tuesday, nothing much happened. I'm kinda tired now.\n",
            "3. Leveraging synergistic paradigms, our strategic framework aims to optimize cross-functional efficiencies, thereby maximizing stakeholder value and fostering a culture of disruptive innovation.\n",
            "4. My dog is the best, he's so fluffy and silly. We played fetch in the park today and he got all muddy but I don't even care.\n",
            "5. The algorithm's architecture, a deep convolutional neural network, is specifically designed to parse and classify high-dimensional image data with unparalleled accuracy.\n"
          ]
        }
      ]
    },
    {
      "cell_type": "markdown",
      "source": [
        "### **Loading TF-IDF Vectorizer and Saved ML models**"
      ],
      "metadata": {
        "id": "4pjMNcjv5uu8"
      }
    },
    {
      "cell_type": "code",
      "source": [
        "# Load existing TF-IDF vectorizer\n",
        "# print(\"Loading existing TF-IDF vectorizer...\")\n",
        "# tfidf_vectorizer = joblib.load('tfidf_vectorizer.pkl')\n",
        "# print(\"TF-IDF vectorizer loaded successfully!\")\n",
        "\n",
        "# Load the saved Decision Tree classifier\n",
        "print(\"Loading saved Decision Tree pipeline...\")\n",
        "loaded_dt_pipeline = joblib.load('decision_tree_pipeline.pkl')\n",
        "print(\"✅ Decision Tree classifier loaded successfully!\")\n",
        "dt_available = True\n",
        "\n",
        "# Load the saved AdaBoost classifier\n",
        "print(\"Loading saved AdaBoost pipeline...\")\n",
        "loaded_adaboost_pipeline = joblib.load('adaboost_pipeline.pkl')\n",
        "print(\"✅ AdaBoost classifier loaded successfully!\")\n",
        "adaboost_available = True\n",
        "\n",
        "# Load the saved SVM pipeline for comparison\n",
        "print(\"Loading saved SVM pipeline...\")\n",
        "loaded_pipeline_svm = joblib.load('Human_Vs_AI_Written_pipeline.pkl')\n",
        "svm_available = True\n",
        "svm_individual = True\n",
        "print(\"✅ SVM pipeline loaded successfully!\")\n",
        "\n",
        "print(\"\\n\" + \"=\"*60)\n",
        "print(\"All models and vectorizer loaded successfully!\")\n",
        "print(\"=\"*60)"
      ],
      "metadata": {
        "id": "5rtHdlqM5yzO",
        "colab": {
          "base_uri": "https://localhost:8080/"
        },
        "outputId": "93e1fe0e-5acf-4f79-c103-f6da8ae5f907"
      },
      "execution_count": 206,
      "outputs": [
        {
          "output_type": "stream",
          "name": "stdout",
          "text": [
            "Loading saved Decision Tree pipeline...\n",
            "✅ Decision Tree classifier loaded successfully!\n",
            "Loading saved AdaBoost pipeline...\n",
            "✅ AdaBoost classifier loaded successfully!\n",
            "Loading saved SVM pipeline...\n",
            "✅ SVM pipeline loaded successfully!\n",
            "\n",
            "============================================================\n",
            "All models and vectorizer loaded successfully!\n",
            "============================================================\n"
          ]
        }
      ]
    },
    {
      "cell_type": "code",
      "source": [
        "# Function to test and print predictions for a pipeline\n",
        "def test_pipeline(pipeline, texts, model_name):\n",
        "    print(f\"\\nTesting {model_name} predictions...\")\n",
        "    print(\"=\" * 60)\n",
        "    for i, text in enumerate(texts, 1):\n",
        "        prediction = pipeline.predict([text])[0]\n",
        "        probabilities = pipeline.predict_proba([text])[0]\n",
        "\n",
        "        predicted_class = \"AI\" if prediction == 1 else \"Human-Written\"\n",
        "        confidence = max(probabilities)\n",
        "\n",
        "        print(f\"{i}. Text: {text}\")\n",
        "        print(f\"   {model_name}: {predicted_class} (Confidence: {confidence:.3f})\")\n",
        "        print(f\"   Probabilities: Human-Written: {probabilities[0]:.3f}, AI: {probabilities[1]:.3f}\\n\")\n",
        "\n",
        "# Run tests on all models\n",
        "test_pipeline(loaded_adaboost_pipeline, test_texts, \"AdaBoost\")\n",
        "test_pipeline(loaded_dt_pipeline, test_texts, \"Decision Tree\")\n",
        "test_pipeline(loaded_pipeline_svm, test_texts, \"SVM\")"
      ],
      "metadata": {
        "colab": {
          "base_uri": "https://localhost:8080/"
        },
        "id": "twTLck8qrwWJ",
        "outputId": "0c92349a-2baa-4ad8-9ac4-9e9e971c222e"
      },
      "execution_count": 207,
      "outputs": [
        {
          "output_type": "stream",
          "name": "stdout",
          "text": [
            "\n",
            "Testing AdaBoost predictions...\n",
            "============================================================\n",
            "1. Text: The intricate tapestry of quantum mechanics reveals a universe governed by probabilistic outcomes rather than deterministic certainties, fundamentally reshaping our understanding of reality.\n",
            "   AdaBoost: Human-Written (Confidence: 0.597)\n",
            "   Probabilities: Human-Written: 0.597, AI: 0.403\n",
            "\n",
            "2. Text: I went to the store and bought some milk. It was a pretty normal Tuesday, nothing much happened. I'm kinda tired now.\n",
            "   AdaBoost: Human-Written (Confidence: 0.608)\n",
            "   Probabilities: Human-Written: 0.608, AI: 0.392\n",
            "\n",
            "3. Text: Leveraging synergistic paradigms, our strategic framework aims to optimize cross-functional efficiencies, thereby maximizing stakeholder value and fostering a culture of disruptive innovation.\n",
            "   AdaBoost: Human-Written (Confidence: 0.597)\n",
            "   Probabilities: Human-Written: 0.597, AI: 0.403\n",
            "\n",
            "4. Text: My dog is the best, he's so fluffy and silly. We played fetch in the park today and he got all muddy but I don't even care.\n",
            "   AdaBoost: Human-Written (Confidence: 0.568)\n",
            "   Probabilities: Human-Written: 0.568, AI: 0.432\n",
            "\n",
            "5. Text: The algorithm's architecture, a deep convolutional neural network, is specifically designed to parse and classify high-dimensional image data with unparalleled accuracy.\n",
            "   AdaBoost: Human-Written (Confidence: 0.597)\n",
            "   Probabilities: Human-Written: 0.597, AI: 0.403\n",
            "\n",
            "\n",
            "Testing Decision Tree predictions...\n",
            "============================================================\n",
            "1. Text: The intricate tapestry of quantum mechanics reveals a universe governed by probabilistic outcomes rather than deterministic certainties, fundamentally reshaping our understanding of reality.\n",
            "   Decision Tree: Human-Written (Confidence: 0.866)\n",
            "   Probabilities: Human-Written: 0.866, AI: 0.134\n",
            "\n",
            "2. Text: I went to the store and bought some milk. It was a pretty normal Tuesday, nothing much happened. I'm kinda tired now.\n",
            "   Decision Tree: Human-Written (Confidence: 0.866)\n",
            "   Probabilities: Human-Written: 0.866, AI: 0.134\n",
            "\n",
            "3. Text: Leveraging synergistic paradigms, our strategic framework aims to optimize cross-functional efficiencies, thereby maximizing stakeholder value and fostering a culture of disruptive innovation.\n",
            "   Decision Tree: Human-Written (Confidence: 0.866)\n",
            "   Probabilities: Human-Written: 0.866, AI: 0.134\n",
            "\n",
            "4. Text: My dog is the best, he's so fluffy and silly. We played fetch in the park today and he got all muddy but I don't even care.\n",
            "   Decision Tree: Human-Written (Confidence: 0.866)\n",
            "   Probabilities: Human-Written: 0.866, AI: 0.134\n",
            "\n",
            "5. Text: The algorithm's architecture, a deep convolutional neural network, is specifically designed to parse and classify high-dimensional image data with unparalleled accuracy.\n",
            "   Decision Tree: Human-Written (Confidence: 0.866)\n",
            "   Probabilities: Human-Written: 0.866, AI: 0.134\n",
            "\n",
            "\n",
            "Testing SVM predictions...\n",
            "============================================================\n",
            "1. Text: The intricate tapestry of quantum mechanics reveals a universe governed by probabilistic outcomes rather than deterministic certainties, fundamentally reshaping our understanding of reality.\n",
            "   SVM: Human-Written (Confidence: 0.975)\n",
            "   Probabilities: Human-Written: 0.975, AI: 0.025\n",
            "\n",
            "2. Text: I went to the store and bought some milk. It was a pretty normal Tuesday, nothing much happened. I'm kinda tired now.\n",
            "   SVM: Human-Written (Confidence: 0.974)\n",
            "   Probabilities: Human-Written: 0.974, AI: 0.026\n",
            "\n",
            "3. Text: Leveraging synergistic paradigms, our strategic framework aims to optimize cross-functional efficiencies, thereby maximizing stakeholder value and fostering a culture of disruptive innovation.\n",
            "   SVM: Human-Written (Confidence: 0.954)\n",
            "   Probabilities: Human-Written: 0.954, AI: 0.046\n",
            "\n",
            "4. Text: My dog is the best, he's so fluffy and silly. We played fetch in the park today and he got all muddy but I don't even care.\n",
            "   SVM: Human-Written (Confidence: 0.951)\n",
            "   Probabilities: Human-Written: 0.951, AI: 0.049\n",
            "\n",
            "5. Text: The algorithm's architecture, a deep convolutional neural network, is specifically designed to parse and classify high-dimensional image data with unparalleled accuracy.\n",
            "   SVM: Human-Written (Confidence: 0.986)\n",
            "   Probabilities: Human-Written: 0.986, AI: 0.014\n",
            "\n"
          ]
        }
      ]
    },
    {
      "cell_type": "code",
      "source": [
        "# Test AdaBoost Only\n",
        "if adaboost_available:\n",
        "    print(\"\\nTesting AdaBoost predictions...\")\n",
        "    print(\"=\" * 60)\n",
        "\n",
        "    for i, text in enumerate(test_texts, 1):\n",
        "        print(f\"{i}. Text: {text}\")\n",
        "\n",
        "        # Test AdaBoost\n",
        "        # X_test = tfidf_vectorizer.transform([text])\n",
        "        ada_prediction = loaded_adaboost_pipeline.predict([text])[0]\n",
        "        ada_probability = loaded_adaboost_pipeline.predict_proba([text])[0]\n",
        "\n",
        "        ada_class = \"AI\" if ada_prediction == 1 else \"Human-Written\"\n",
        "        ada_confidence = max(ada_probability)\n",
        "\n",
        "        print(f\"   AdaBoost: {ada_class} (Confidence: {ada_confidence:.3f})\")\n",
        "        print(f\"   Probabilities: Human-Written: {ada_probability[0]:.3f}, AI: {ada_probability[1]:.3f}\")\n",
        "        print()\n",
        "else:\n",
        "    print(\"Cannot test AdaBoost - model not loaded\")\n"
      ],
      "metadata": {
        "id": "XC0cC-4P6MAM",
        "colab": {
          "base_uri": "https://localhost:8080/"
        },
        "outputId": "c84601bf-1c05-407b-d89e-a0a33e378b7d"
      },
      "execution_count": 208,
      "outputs": [
        {
          "output_type": "stream",
          "name": "stdout",
          "text": [
            "\n",
            "Testing AdaBoost predictions...\n",
            "============================================================\n",
            "1. Text: The intricate tapestry of quantum mechanics reveals a universe governed by probabilistic outcomes rather than deterministic certainties, fundamentally reshaping our understanding of reality.\n",
            "   AdaBoost: Human-Written (Confidence: 0.597)\n",
            "   Probabilities: Human-Written: 0.597, AI: 0.403\n",
            "\n",
            "2. Text: I went to the store and bought some milk. It was a pretty normal Tuesday, nothing much happened. I'm kinda tired now.\n",
            "   AdaBoost: Human-Written (Confidence: 0.608)\n",
            "   Probabilities: Human-Written: 0.608, AI: 0.392\n",
            "\n",
            "3. Text: Leveraging synergistic paradigms, our strategic framework aims to optimize cross-functional efficiencies, thereby maximizing stakeholder value and fostering a culture of disruptive innovation.\n",
            "   AdaBoost: Human-Written (Confidence: 0.597)\n",
            "   Probabilities: Human-Written: 0.597, AI: 0.403\n",
            "\n",
            "4. Text: My dog is the best, he's so fluffy and silly. We played fetch in the park today and he got all muddy but I don't even care.\n",
            "   AdaBoost: Human-Written (Confidence: 0.568)\n",
            "   Probabilities: Human-Written: 0.568, AI: 0.432\n",
            "\n",
            "5. Text: The algorithm's architecture, a deep convolutional neural network, is specifically designed to parse and classify high-dimensional image data with unparalleled accuracy.\n",
            "   AdaBoost: Human-Written (Confidence: 0.597)\n",
            "   Probabilities: Human-Written: 0.597, AI: 0.403\n",
            "\n"
          ]
        }
      ]
    },
    {
      "cell_type": "code",
      "source": [
        "# Test Decision Tree Only\n",
        "if dt_available:\n",
        "    print(\"\\nTesting Decision Tree predictions...\")\n",
        "    print(\"=\" * 60)\n",
        "\n",
        "    for i, text in enumerate(test_texts, 1):\n",
        "        print(f\"{i}. Text: {text}\")\n",
        "\n",
        "        # Test Decision Tree\n",
        "        # X_test = tfidf_vectorizer.transform([text])\n",
        "        dt_prediction = loaded_dt_pipeline.predict([text])[0]\n",
        "        dt_probability = loaded_dt_pipeline.predict_proba([text])[0]\n",
        "\n",
        "        dt_class = \"AI\" if dt_prediction == 1 else \"Human-Written\"\n",
        "        dt_confidence = max(dt_probability)\n",
        "\n",
        "        print(f\"   Decision Tree: {dt_class} (Confidence: {dt_confidence:.3f})\")\n",
        "        print(f\"   Probabilities: Human-Written: {dt_probability[0]:.3f}, AI: {dt_probability[1]:.3f}\")\n",
        "        print()\n",
        "else:\n",
        "    print(\"Cannot test Decision Tree - model not loaded\")"
      ],
      "metadata": {
        "id": "2O7u4OJi6OAN",
        "colab": {
          "base_uri": "https://localhost:8080/"
        },
        "outputId": "3e70b7e9-bcd5-4329-c7e1-229df8fcd499"
      },
      "execution_count": 209,
      "outputs": [
        {
          "output_type": "stream",
          "name": "stdout",
          "text": [
            "\n",
            "Testing Decision Tree predictions...\n",
            "============================================================\n",
            "1. Text: The intricate tapestry of quantum mechanics reveals a universe governed by probabilistic outcomes rather than deterministic certainties, fundamentally reshaping our understanding of reality.\n",
            "   Decision Tree: Human-Written (Confidence: 0.866)\n",
            "   Probabilities: Human-Written: 0.866, AI: 0.134\n",
            "\n",
            "2. Text: I went to the store and bought some milk. It was a pretty normal Tuesday, nothing much happened. I'm kinda tired now.\n",
            "   Decision Tree: Human-Written (Confidence: 0.866)\n",
            "   Probabilities: Human-Written: 0.866, AI: 0.134\n",
            "\n",
            "3. Text: Leveraging synergistic paradigms, our strategic framework aims to optimize cross-functional efficiencies, thereby maximizing stakeholder value and fostering a culture of disruptive innovation.\n",
            "   Decision Tree: Human-Written (Confidence: 0.866)\n",
            "   Probabilities: Human-Written: 0.866, AI: 0.134\n",
            "\n",
            "4. Text: My dog is the best, he's so fluffy and silly. We played fetch in the park today and he got all muddy but I don't even care.\n",
            "   Decision Tree: Human-Written (Confidence: 0.866)\n",
            "   Probabilities: Human-Written: 0.866, AI: 0.134\n",
            "\n",
            "5. Text: The algorithm's architecture, a deep convolutional neural network, is specifically designed to parse and classify high-dimensional image data with unparalleled accuracy.\n",
            "   Decision Tree: Human-Written (Confidence: 0.866)\n",
            "   Probabilities: Human-Written: 0.866, AI: 0.134\n",
            "\n"
          ]
        }
      ]
    },
    {
      "cell_type": "code",
      "source": [
        "# Extract individual components from your pipeline\n",
        "pipeline = joblib.load('optimized_svm_model.pkl')\n",
        "\n",
        "# Extract individual components\n",
        "text_preprocessor = pipeline.named_steps['preprocessor']\n",
        "tfidf_vectorizer_1 = pipeline.named_steps['vectorizer']\n",
        "feature_selector = pipeline.named_steps['feature']\n",
        "svm_classifier = pipeline.named_steps['classifier']\n",
        "\n",
        "# Save individual components\n",
        "joblib.dump(svm_classifier, 'individual_svm_classifier.pkl')\n",
        "joblib.dump(feature_selector, 'feature_selector.pkl')\n",
        "joblib.dump(tfidf_vectorizer_1, 'sol2_pipeline_tfidf_vectorizer.pkl')\n",
        "# Note: since optimized_svm_model.pkl is a pipeline, extracting only the individual svm model"
      ],
      "metadata": {
        "id": "njeJ9jV8eI11",
        "colab": {
          "base_uri": "https://localhost:8080/"
        },
        "outputId": "6ddfcc1f-3114-432a-b107-230388b0eced"
      },
      "execution_count": 210,
      "outputs": [
        {
          "output_type": "execute_result",
          "data": {
            "text/plain": [
              "['sol2_pipeline_tfidf_vectorizer.pkl']"
            ]
          },
          "metadata": {},
          "execution_count": 210
        }
      ]
    },
    {
      "cell_type": "code",
      "source": [
        "# Test SVM Pipeline\n",
        "# Option 1: Use Pipeline Without Custom Preprocessing For SVM Testing\n",
        "\n",
        "print(\"OPTION 1: Testing SVM Pipeline (No Custom Preprocessing)\")\n",
        "print(\"=\" * 60)\n",
        "\n",
        "if svm_available:\n",
        "    for i, text in enumerate(test_texts, 1):\n",
        "        # Use raw text - let pipeline handle all preprocessing\n",
        "        prediction = loaded_pipeline_svm.predict([text])[0]\n",
        "        probability = loaded_pipeline_svm.predict_proba([text])[0]\n",
        "\n",
        "        class_name = \"AI\" if prediction == 1 else \"Human-Written\"\n",
        "        confidence = max(probability)\n",
        "\n",
        "        print(f\"{i}. Text: {text}\")\n",
        "        print(f\"   Prediction: {class_name} (Confidence: {confidence:.3f})\")\n",
        "        print(f\"   Probabilities: Human-Written: {probability[0]:.3f}, AI: {probability[1]:.3f}\")\n",
        "        print()\n",
        "else:\n",
        "    print(\"Cannot test SVM Pipeline - model not loaded\")\n",
        "\n",
        "print(\"\\n\" + \"=\"*60)"
      ],
      "metadata": {
        "id": "bsZFthLM6QgD",
        "colab": {
          "base_uri": "https://localhost:8080/"
        },
        "outputId": "b3c42acc-78ce-4341-b98e-a5a753baad29"
      },
      "execution_count": 211,
      "outputs": [
        {
          "output_type": "stream",
          "name": "stdout",
          "text": [
            "OPTION 1: Testing SVM Pipeline (No Custom Preprocessing)\n",
            "============================================================\n",
            "1. Text: The intricate tapestry of quantum mechanics reveals a universe governed by probabilistic outcomes rather than deterministic certainties, fundamentally reshaping our understanding of reality.\n",
            "   Prediction: Human-Written (Confidence: 0.975)\n",
            "   Probabilities: Human-Written: 0.975, AI: 0.025\n",
            "\n",
            "2. Text: I went to the store and bought some milk. It was a pretty normal Tuesday, nothing much happened. I'm kinda tired now.\n",
            "   Prediction: Human-Written (Confidence: 0.974)\n",
            "   Probabilities: Human-Written: 0.974, AI: 0.026\n",
            "\n",
            "3. Text: Leveraging synergistic paradigms, our strategic framework aims to optimize cross-functional efficiencies, thereby maximizing stakeholder value and fostering a culture of disruptive innovation.\n",
            "   Prediction: Human-Written (Confidence: 0.954)\n",
            "   Probabilities: Human-Written: 0.954, AI: 0.046\n",
            "\n",
            "4. Text: My dog is the best, he's so fluffy and silly. We played fetch in the park today and he got all muddy but I don't even care.\n",
            "   Prediction: Human-Written (Confidence: 0.951)\n",
            "   Probabilities: Human-Written: 0.951, AI: 0.049\n",
            "\n",
            "5. Text: The algorithm's architecture, a deep convolutional neural network, is specifically designed to parse and classify high-dimensional image data with unparalleled accuracy.\n",
            "   Prediction: Human-Written (Confidence: 0.986)\n",
            "   Probabilities: Human-Written: 0.986, AI: 0.014\n",
            "\n",
            "\n",
            "============================================================\n"
          ]
        }
      ]
    },
    {
      "cell_type": "code",
      "source": [
        "# OPTION 2: Use Custom Preprocessing + Individual Components\n",
        "# ==========================================================\n",
        "\n",
        "print(\"OPTION 2: Testing with Custom Preprocessing + Individual Components\")\n",
        "print(\"=\" * 60)\n",
        "\n",
        "# Load individual components\n",
        "tfidf_vectorizer_1 = joblib.load('sol2_pipeline_tfidf_vectorizer.pkl')\n",
        "feature_selector = joblib.load('feature_selector.pkl')\n",
        "svm_classifier = joblib.load('individual_svm_classifier.pkl')\n",
        "\n",
        "for i, text in enumerate(test_texts, 1):\n",
        "    # Apply custom preprocessing\n",
        "    processed_text = preprocessing.preprocess(text)\n",
        "\n",
        "    # Predict with the reduced features\n",
        "    X_test = tfidf_vectorizer.transform([processed_text])\n",
        "    prediction = svm_classifier.predict(X_test)[0]\n",
        "    probability = svm_classifier.predict_proba(X_test)[0]\n",
        "\n",
        "    svm_class = \"AI\" if prediction == 1 else \"Human-Written\"\n",
        "    confidence = max(probability)\n",
        "\n",
        "    print(f\"{i}. Text: {text}\")\n",
        "    print(f\"   Processed: {processed_text}\")\n",
        "    print(f\"   Prediction: {svm_class} (Confidence: {confidence:.3f})\")\n",
        "    print(f\"   Probabilities: Human-Written: {probability[0]:.3f}, AI: {probability[1]:.3f}\")\n",
        "    print()\n",
        "\n",
        "print(\"\\n\" + \"=\"*60)"
      ],
      "metadata": {
        "id": "41bDMbch6T7C",
        "colab": {
          "base_uri": "https://localhost:8080/"
        },
        "outputId": "df884f68-f22e-4876-a55d-71837f342d29"
      },
      "execution_count": 217,
      "outputs": [
        {
          "output_type": "stream",
          "name": "stdout",
          "text": [
            "OPTION 2: Testing with Custom Preprocessing + Individual Components\n",
            "============================================================\n",
            "1. Text: The intricate tapestry of quantum mechanics reveals a universe governed by probabilistic outcomes rather than deterministic certainties, fundamentally reshaping our understanding of reality.\n",
            "   Processed: intricate tapestry quantum mechanic reveals universe govern probabilistic outcome rather deterministic certainty fundamentally reshape understand reality\n",
            "   Prediction: Human-Written (Confidence: 0.951)\n",
            "   Probabilities: Human-Written: 0.951, AI: 0.049\n",
            "\n",
            "2. Text: I went to the store and bought some milk. It was a pretty normal Tuesday, nothing much happened. I'm kinda tired now.\n",
            "   Processed: go store bought milk pretty normal tuesday nothing much happen kinda tire\n",
            "   Prediction: Human-Written (Confidence: 0.968)\n",
            "   Probabilities: Human-Written: 0.968, AI: 0.032\n",
            "\n",
            "3. Text: Leveraging synergistic paradigms, our strategic framework aims to optimize cross-functional efficiencies, thereby maximizing stakeholder value and fostering a culture of disruptive innovation.\n",
            "   Processed: leverage synergistic paradigm strategic framework aim optimize crossfunctional efficiency thereby maximize stakeholder value foster culture disruptive innovation\n",
            "   Prediction: Human-Written (Confidence: 0.905)\n",
            "   Probabilities: Human-Written: 0.905, AI: 0.095\n",
            "\n",
            "4. Text: My dog is the best, he's so fluffy and silly. We played fetch in the park today and he got all muddy but I don't even care.\n",
            "   Processed: dog best he fluffy silly played fetch park today get muddy even care\n",
            "   Prediction: Human-Written (Confidence: 0.948)\n",
            "   Probabilities: Human-Written: 0.948, AI: 0.052\n",
            "\n",
            "5. Text: The algorithm's architecture, a deep convolutional neural network, is specifically designed to parse and classify high-dimensional image data with unparalleled accuracy.\n",
            "   Processed: algorithm architecture deep convolutional neural network specifically design parse classify highdimensional image data unparalleled accuracy\n",
            "   Prediction: Human-Written (Confidence: 0.977)\n",
            "   Probabilities: Human-Written: 0.977, AI: 0.023\n",
            "\n",
            "\n",
            "============================================================\n"
          ]
        }
      ]
    },
    {
      "cell_type": "code",
      "source": [
        "# OPTION 3: Compare Preprocessing Effects for SVM\n",
        "# ======================================\n",
        "\n",
        "print(\"OPTION 3: Comparing Effects of Different Preprocessing\")\n",
        "print(\"=\" * 60)\n",
        "\n",
        "for i, text in enumerate(test_texts, 1):\n",
        "    print(f\"{i}. Text: {text}\")\n",
        "\n",
        "    # Method 1: Pipeline only (no custom preprocessing)\n",
        "    pred1 = loaded_pipeline_svm.predict([text])[0]\n",
        "    prob1 = loaded_pipeline_svm.predict_proba([text])[0]\n",
        "    class1 = \"AI\" if pred1 == 1 else \"Human-Written\"\n",
        "    conf1 = max(prob1)\n",
        "\n",
        "    # Method 2: Custom preprocessing + pipeline\n",
        "    processed_text = preprocessing.preprocess(text)\n",
        "    pred2 = loaded_pipeline_svm.predict([processed_text])[0]\n",
        "    prob2 = loaded_pipeline_svm.predict_proba([processed_text])[0]\n",
        "    class2 = \"AI\" if pred2 == 1 else \"Human-Written\"\n",
        "    conf2 = max(prob2)\n",
        "\n",
        "    print(f\"   Raw text → Pipeline:      {class1} (Confidence: {conf1:.3f})\")\n",
        "    print(f\"   Preprocessed → Pipeline:  {class2} (Confidence: {conf2:.3f})\")\n",
        "\n",
        "    if conf1 != conf2:\n",
        "        print(f\"   ⚠️  Different results! Preprocessing changed the prediction\")\n",
        "        print(f\"   📝 Processed text: '{processed_text}'\")\n",
        "    else:\n",
        "        print(f\"   ✅ Same results\")\n",
        "\n",
        "    print()\n",
        "\n",
        "#Conclusion\n",
        "print(\"=\"*60)\n",
        "print(\"\"\"\n",
        "For consistency and best results:\n",
        "\n",
        "✅ RECOMMENDED: Used Option 1 (Pipeline only, no custom preprocessing)\n",
        "   - Let the pipeline handle all preprocessing internally\n",
        "   - This is what your Streamlit app should use\n",
        "   - Consistent with how the model was trained\n",
        "\n",
        "⚠️  AVOID: Mixing custom preprocessing with pipeline preprocessing\n",
        "   - Can lead to over-processing\n",
        "   - May degrade model performance\n",
        "   - Creates inconsistency between training and prediction\n",
        "\n",
        "🔧 IF YOU MUST use custom preprocessing:\n",
        "   - Use Option 2 (custom preprocessing + individual components)\n",
        "   - Make sure the same preprocessing was used during training\n",
        "   - Document the preprocessing steps clearly\n",
        "\"\"\")"
      ],
      "metadata": {
        "id": "s-v5Fbw26XDF",
        "colab": {
          "base_uri": "https://localhost:8080/"
        },
        "outputId": "ab27ee07-e219-42c7-a9d9-e56e3ea56cda"
      },
      "execution_count": 219,
      "outputs": [
        {
          "output_type": "stream",
          "name": "stdout",
          "text": [
            "OPTION 3: Comparing Effects of Different Preprocessing\n",
            "============================================================\n",
            "1. Text: The intricate tapestry of quantum mechanics reveals a universe governed by probabilistic outcomes rather than deterministic certainties, fundamentally reshaping our understanding of reality.\n",
            "   Raw text → Pipeline:      Human-Written (Confidence: 0.975)\n",
            "   Preprocessed → Pipeline:  Human-Written (Confidence: 0.951)\n",
            "   ⚠️  Different results! Preprocessing changed the prediction\n",
            "   📝 Processed text: 'intricate tapestry quantum mechanic reveals universe govern probabilistic outcome rather deterministic certainty fundamentally reshape understand reality'\n",
            "\n",
            "2. Text: I went to the store and bought some milk. It was a pretty normal Tuesday, nothing much happened. I'm kinda tired now.\n",
            "   Raw text → Pipeline:      Human-Written (Confidence: 0.974)\n",
            "   Preprocessed → Pipeline:  Human-Written (Confidence: 0.968)\n",
            "   ⚠️  Different results! Preprocessing changed the prediction\n",
            "   📝 Processed text: 'go store bought milk pretty normal tuesday nothing much happen kinda tire'\n",
            "\n",
            "3. Text: Leveraging synergistic paradigms, our strategic framework aims to optimize cross-functional efficiencies, thereby maximizing stakeholder value and fostering a culture of disruptive innovation.\n",
            "   Raw text → Pipeline:      Human-Written (Confidence: 0.954)\n",
            "   Preprocessed → Pipeline:  Human-Written (Confidence: 0.905)\n",
            "   ⚠️  Different results! Preprocessing changed the prediction\n",
            "   📝 Processed text: 'leverage synergistic paradigm strategic framework aim optimize crossfunctional efficiency thereby maximize stakeholder value foster culture disruptive innovation'\n",
            "\n",
            "4. Text: My dog is the best, he's so fluffy and silly. We played fetch in the park today and he got all muddy but I don't even care.\n",
            "   Raw text → Pipeline:      Human-Written (Confidence: 0.951)\n",
            "   Preprocessed → Pipeline:  Human-Written (Confidence: 0.948)\n",
            "   ⚠️  Different results! Preprocessing changed the prediction\n",
            "   📝 Processed text: 'dog best he fluffy silly played fetch park today get muddy even care'\n",
            "\n",
            "5. Text: The algorithm's architecture, a deep convolutional neural network, is specifically designed to parse and classify high-dimensional image data with unparalleled accuracy.\n",
            "   Raw text → Pipeline:      Human-Written (Confidence: 0.986)\n",
            "   Preprocessed → Pipeline:  Human-Written (Confidence: 0.977)\n",
            "   ⚠️  Different results! Preprocessing changed the prediction\n",
            "   📝 Processed text: 'algorithm architecture deep convolutional neural network specifically design parse classify highdimensional image data unparalleled accuracy'\n",
            "\n",
            "============================================================\n",
            "\n",
            "For consistency and best results:\n",
            "\n",
            "✅ RECOMMENDED: Used Option 1 (Pipeline only, no custom preprocessing)\n",
            "   - Let the pipeline handle all preprocessing internally\n",
            "   - This is what your Streamlit app should use\n",
            "   - Consistent with how the model was trained\n",
            "\n",
            "⚠️  AVOID: Mixing custom preprocessing with pipeline preprocessing\n",
            "   - Can lead to over-processing\n",
            "   - May degrade model performance\n",
            "   - Creates inconsistency between training and prediction\n",
            "\n",
            "🔧 IF YOU MUST use custom preprocessing:\n",
            "   - Use Option 2 (custom preprocessing + individual components)\n",
            "   - Make sure the same preprocessing was used during training\n",
            "   - Document the preprocessing steps clearly\n",
            "\n"
          ]
        }
      ]
    },
    {
      "cell_type": "code",
      "source": [
        "print(\"Vectorizer output feature count:\", len(loaded_dt_pipeline.named_steps['tfidf'].get_feature_names_out()))\n",
        "print(\"Classifier expects features:\", loaded_dt_pipeline.named_steps['classifier'].n_features_in_)"
      ],
      "metadata": {
        "colab": {
          "base_uri": "https://localhost:8080/"
        },
        "id": "wwalpRzuh6-9",
        "outputId": "0aa23f6b-5373-4b7b-890c-6a255e9f1bc5"
      },
      "execution_count": 220,
      "outputs": [
        {
          "output_type": "stream",
          "name": "stdout",
          "text": [
            "Vectorizer output feature count: 2000\n",
            "Classifier expects features: 2000\n"
          ]
        }
      ]
    },
    {
      "cell_type": "code",
      "source": [
        "# Compare All Models Side by Side\n",
        "# ========================================\n",
        "\n",
        "print(\"\\nCOMPARING ALL THREE MODELS\")\n",
        "print(\"=\" * 80)\n",
        "\n",
        "agreements_all = 0\n",
        "disagreements_all = 0\n",
        "\n",
        "for i, text in enumerate(test_texts, 1):\n",
        "    print(f\"{i}. Text: {text}\")\n",
        "\n",
        "    # Predict with SVM pipeline\n",
        "    svm_prediction = loaded_pipeline_svm.predict([text])[0]\n",
        "    svm_probability = loaded_pipeline_svm.predict_proba([text])[0]\n",
        "    svm_class = \"AI-Generated\" if svm_prediction == 1 else \"Human-Written\"\n",
        "    svm_confidence = max(svm_probability)\n",
        "\n",
        "    # Predict with Decision Tree pipeline\n",
        "    dt_prediction = loaded_dt_pipeline.predict([text])[0]\n",
        "    dt_probability = loaded_dt_pipeline.predict_proba([text])[0]\n",
        "    dt_class = \"AI-Generated\" if dt_prediction == 1 else \"Human-Written\"\n",
        "    dt_confidence = max(dt_probability)\n",
        "\n",
        "    # Predict with AdaBoost pipeline\n",
        "    adaboost_prediction = loaded_adaboost_pipeline.predict([text])[0]\n",
        "    adaboost_probability = loaded_adaboost_pipeline.predict_proba([text])[0]\n",
        "    adaboost_class = \"AI-Generated\" if adaboost_prediction == 1 else \"Human-Written\"\n",
        "    adaboost_confidence = max(adaboost_probability)\n",
        "\n",
        "    # Print results\n",
        "    print(f\"   SVM:            {svm_class} (Confidence: {svm_confidence:.3f})\")\n",
        "    print(f\"   Decision Tree:  {dt_class} (Confidence: {dt_confidence:.3f})\")\n",
        "    print(f\"   AdaBoost:       {adaboost_class} (Confidence: {adaboost_confidence:.3f})\")\n",
        "\n",
        "    # Check agreement\n",
        "    predictions = [svm_class, dt_class, adaboost_class]\n",
        "    if len(set(predictions)) == 1:\n",
        "        print(f\"   ✅ AGREEMENT: All models agree on {svm_class}\")\n",
        "        agreements_all += 1\n",
        "    else:\n",
        "        print(f\"   ⚠️  DISAGREEMENT: Mixed predictions\")\n",
        "        disagreements_all += 1\n",
        "\n",
        "    print()\n",
        "\n",
        "# Summary\n",
        "print(\"=\" * 80)\n",
        "print(f\"Total agreements: {agreements_all}\")\n",
        "print(f\"Total disagreements: {disagreements_all}\")\n",
        "print(\"=\" * 80)"
      ],
      "metadata": {
        "id": "pVnDrRYr6mjI",
        "colab": {
          "base_uri": "https://localhost:8080/"
        },
        "outputId": "d172404d-8afd-4664-b2ab-72d308e8363b"
      },
      "execution_count": 222,
      "outputs": [
        {
          "output_type": "stream",
          "name": "stdout",
          "text": [
            "\n",
            "COMPARING ALL THREE MODELS\n",
            "================================================================================\n",
            "1. Text: The intricate tapestry of quantum mechanics reveals a universe governed by probabilistic outcomes rather than deterministic certainties, fundamentally reshaping our understanding of reality.\n",
            "   SVM:            Human-Written (Confidence: 0.975)\n",
            "   Decision Tree:  Human-Written (Confidence: 0.866)\n",
            "   AdaBoost:       Human-Written (Confidence: 0.597)\n",
            "   ✅ AGREEMENT: All models agree on Human-Written\n",
            "\n",
            "2. Text: I went to the store and bought some milk. It was a pretty normal Tuesday, nothing much happened. I'm kinda tired now.\n",
            "   SVM:            Human-Written (Confidence: 0.974)\n",
            "   Decision Tree:  Human-Written (Confidence: 0.866)\n",
            "   AdaBoost:       Human-Written (Confidence: 0.608)\n",
            "   ✅ AGREEMENT: All models agree on Human-Written\n",
            "\n",
            "3. Text: Leveraging synergistic paradigms, our strategic framework aims to optimize cross-functional efficiencies, thereby maximizing stakeholder value and fostering a culture of disruptive innovation.\n",
            "   SVM:            Human-Written (Confidence: 0.954)\n",
            "   Decision Tree:  Human-Written (Confidence: 0.866)\n",
            "   AdaBoost:       Human-Written (Confidence: 0.597)\n",
            "   ✅ AGREEMENT: All models agree on Human-Written\n",
            "\n",
            "4. Text: My dog is the best, he's so fluffy and silly. We played fetch in the park today and he got all muddy but I don't even care.\n",
            "   SVM:            Human-Written (Confidence: 0.951)\n",
            "   Decision Tree:  Human-Written (Confidence: 0.866)\n",
            "   AdaBoost:       Human-Written (Confidence: 0.568)\n",
            "   ✅ AGREEMENT: All models agree on Human-Written\n",
            "\n",
            "5. Text: The algorithm's architecture, a deep convolutional neural network, is specifically designed to parse and classify high-dimensional image data with unparalleled accuracy.\n",
            "   SVM:            Human-Written (Confidence: 0.986)\n",
            "   Decision Tree:  Human-Written (Confidence: 0.866)\n",
            "   AdaBoost:       Human-Written (Confidence: 0.597)\n",
            "   ✅ AGREEMENT: All models agree on Human-Written\n",
            "\n",
            "================================================================================\n",
            "Total agreements: 5\n",
            "Total disagreements: 0\n",
            "================================================================================\n"
          ]
        }
      ]
    },
    {
      "cell_type": "code",
      "source": [
        "# Summary statistics\n",
        "total_tests = len(test_texts)\n",
        "agreement_rate = (agreements_all / total_tests) * 100\n",
        "\n",
        "print(\"=\" * 70)\n",
        "print(\"MODEL COMPARISON SUMMARY\")\n",
        "print(\"=\" * 70)\n",
        "print(f\"Total tests: {total_tests}\")\n",
        "print(f\"Agreements: {agreements_all}\")\n",
        "print(f\"Disagreements: {disagreements_all}\")\n",
        "print(f\"Agreement rate: {agreement_rate:.1f}%\")"
      ],
      "metadata": {
        "id": "BiKaYzLb6rkL",
        "colab": {
          "base_uri": "https://localhost:8080/"
        },
        "outputId": "9e08b9b5-5ea9-4f88-ad43-38c705cfd77e"
      },
      "execution_count": 223,
      "outputs": [
        {
          "output_type": "stream",
          "name": "stdout",
          "text": [
            "======================================================================\n",
            "MODEL COMPARISON SUMMARY\n",
            "======================================================================\n",
            "Total tests: 5\n",
            "Agreements: 5\n",
            "Disagreements: 0\n",
            "Agreement rate: 100.0%\n"
          ]
        }
      ]
    },
    {
      "cell_type": "code",
      "source": [
        "# Model Summary and Status for Human vs AI Text Detection\n",
        "\n",
        "print(\"\\n\" + \"=\"*60)\n",
        "print(\"MODEL TESTING COMPLETED!\")\n",
        "print(\"=\"*60)\n",
        "\n",
        "print(\"\\nWhat we now have:\")\n",
        "print(\"✅tfidf_vectorizer.pkl (from SVM)\")\n",
        "if svm_available:\n",
        "    print(\"✅human_vs_ai_pipeline.pkl (SVM pipeline)\")\n",
        "if dt_available:\n",
        "    print(\"✅decision_tree_classifier.pkl (DT classifier)\")\n",
        "if adaboost_available:\n",
        "    print(\"✅adaboost_classifier.pkl (AdaBoost classifier)\")\n",
        "\n",
        "print(\"\\nFor Streamlit deployment:\")\n",
        "print(\"🔹 Same TF-IDF vectorizer for all three models\")\n",
        "print(\"🔹 Switch between SVM, Decision Tree, and AdaBoost classifiers\")\n",
        "print(\"🔹 Compare predictions from all three models\")\n",
        "print(\"🔹 Show agreement/disagreement analysis\")"
      ],
      "metadata": {
        "id": "Xsr_BpdS6twc",
        "colab": {
          "base_uri": "https://localhost:8080/"
        },
        "outputId": "31b09252-967f-4096-d6db-7a05b85dadc5"
      },
      "execution_count": 224,
      "outputs": [
        {
          "output_type": "stream",
          "name": "stdout",
          "text": [
            "\n",
            "============================================================\n",
            "MODEL TESTING COMPLETED!\n",
            "============================================================\n",
            "\n",
            "What we now have:\n",
            "✅tfidf_vectorizer.pkl (from SVM)\n",
            "✅human_vs_ai_pipeline.pkl (SVM pipeline)\n",
            "✅decision_tree_classifier.pkl (DT classifier)\n",
            "✅adaboost_classifier.pkl (AdaBoost classifier)\n",
            "\n",
            "For Streamlit deployment:\n",
            "🔹 Same TF-IDF vectorizer for all three models\n",
            "🔹 Switch between SVM, Decision Tree, and AdaBoost classifiers\n",
            "🔹 Compare predictions from all three models\n",
            "🔹 Show agreement/disagreement analysis\n"
          ]
        }
      ]
    },
    {
      "cell_type": "code",
      "source": [
        "#Create Model Summary by comparing both models\n",
        "\n",
        "print(\"MODEL SUMMARY FOR DEPLOYMENT\")\n",
        "print(\"=\" * 50)\n",
        "\n",
        "print(f\"Best performing model: {final_model_name}\")\n",
        "print(f\"Final accuracy: {pipeline_accuracy:.4f}\")\n",
        "print(f\"Cross-validation score: {model_scores[final_model_name]:.4f})\")\n",
        "\n",
        "print(f\"\\nTraining data statistics:\")\n",
        "print(f\"- Total samples: {len(X)}\")\n",
        "print(f\"- Human-written samples: {sum(y == 0)}\")\n",
        "print(f\"- AI-generated samples: {sum(y == 1)}\")\n",
        "\n",
        "print(f\"\\nModel features:\")\n",
        "print(f\"- Text preprocessing: Advanced with lemmatization\")\n",
        "print(f\"- Vectorization: TF-IDF with {tfidf_vectorizer.max_features} features\")\n",
        "print(f\"- Algorithm: {final_model_name}\")\n",
        "print(f\"- Cross-validation: 5-fold Stratified\")\n",
        "\n",
        "print(f\"\\nFiles created for Streamlit deployment:\")\n",
        "print(f\"1. {pipeline_filename} - Complete ML pipeline\")\n",
        "print(f\"2. {tfidf_filename} - TF-IDF vectorizer\")\n",
        "print(f\"3. {model_filename} - SVM classifier\")\n",
        "print(f\"4. {dt_model_filename} - Decision Tree classifier\")\n",
        "print(f\"5. {adaboost_model_filename} - AdaBoost classifier\")\n",
        "\n",
        "print(f\"\\nNext steps:\")\n",
        "print(\"1. Download these .pkl files from Colab\")\n",
        "print(\"2. We will use them in our Streamlit application\")\n",
        "print(\"3. The pipeline can process raw text and make predictions\")\n",
        "print(\"4. Remember to apply the same preprocessing (TextPreprocessor class)\")\n",
        "\n",
        "print(\"\\nCongratulations! our ML models are ready for deployment!\")"
      ],
      "metadata": {
        "id": "h2JlHCLU6wlz",
        "colab": {
          "base_uri": "https://localhost:8080/"
        },
        "outputId": "513db01d-7e7b-4ff9-c59a-1f1cfdd3750b"
      },
      "execution_count": 225,
      "outputs": [
        {
          "output_type": "stream",
          "name": "stdout",
          "text": [
            "MODEL SUMMARY FOR DEPLOYMENT\n",
            "==================================================\n",
            "Best performing model: SVM\n",
            "Final accuracy: 0.9437\n",
            "Cross-validation score: 0.8149)\n",
            "\n",
            "Training data statistics:\n",
            "- Total samples: 3728\n",
            "- Human-written samples: 1864\n",
            "- AI-generated samples: 1864\n",
            "\n",
            "Model features:\n",
            "- Text preprocessing: Advanced with lemmatization\n",
            "- Vectorization: TF-IDF with 10000 features\n",
            "- Algorithm: SVM\n",
            "- Cross-validation: 5-fold Stratified\n",
            "\n",
            "Files created for Streamlit deployment:\n",
            "1. Human_Vs_AI_Written_pipeline.pkl - Complete ML pipeline\n",
            "2. tfidf_vectorizer.pkl - TF-IDF vectorizer\n",
            "3. optimized_svm_model.pkl - SVM classifier\n",
            "4. optimized_dt_model.pkl - Decision Tree classifier\n",
            "5. optimized_adaboost_model.pkl - AdaBoost classifier\n",
            "\n",
            "Next steps:\n",
            "1. Download these .pkl files from Colab\n",
            "2. We will use them in our Streamlit application\n",
            "3. The pipeline can process raw text and make predictions\n",
            "4. Remember to apply the same preprocessing (TextPreprocessor class)\n",
            "\n",
            "Congratulations! our ML models are ready for deployment!\n"
          ]
        }
      ]
    },
    {
      "cell_type": "code",
      "source": [
        "# Download Files Instructions\n",
        "print(\"\\n\" + \"=\"*60)\n",
        "print(\"DOWNLOAD INSTRUCTIONS\")\n",
        "print(\"=\"*60)\n",
        "print(\"**Option 1** - To download our trained models:\")\n",
        "print(\"- Look at the file browser on the left side of Colab\")\n",
        "print(\"- Find these files and right-click to download\")"
      ],
      "metadata": {
        "id": "Qtm8JvkS0XwB",
        "colab": {
          "base_uri": "https://localhost:8080/"
        },
        "outputId": "2240b2af-8c66-4312-9bf6-025b1a68f3cc"
      },
      "execution_count": 226,
      "outputs": [
        {
          "output_type": "stream",
          "name": "stdout",
          "text": [
            "\n",
            "============================================================\n",
            "DOWNLOAD INSTRUCTIONS\n",
            "============================================================\n",
            "**Option 1** - To download our trained models:\n",
            "- Look at the file browser on the left side of Colab\n",
            "- Find these files and right-click to download\n"
          ]
        }
      ]
    },
    {
      "cell_type": "markdown",
      "source": [
        "# Download Files Instructions\n",
        "**Option 1** - To download our trained models:\n",
        "- Look at the file browser on the left side of Colab, and then  find these files and right-click to download"
      ],
      "metadata": {
        "id": "fsAIP0E_62jD"
      }
    },
    {
      "cell_type": "code",
      "source": [
        "# Create Sample Data Files for Streamlit Testing\n",
        "\n",
        "# Create sample text file\n",
        "sample_texts = [\n",
        "        \"The exploration of deep space represents humanity's collective aspiration to understand our place in the cosmos. Through the development of advanced propulsion systems and autonomous probes, we can systematically chart celestial bodies, analyze their compositions, and search for extraterrestrial biosignatures. This endeavor not only expands our scientific knowledge but also fosters technological innovation that has terrestrial applications.\",\n",
        "        \"I can't believe I forgot my keys again. I had to wait outside for like an hour for my roommate to get home. It was so cold and boring. I just scrolled through my phone the whole time. Definitely not my best moment lol.\",\n",
        "        \"The socio-economic implications of decentralized finance (DeFi) are profound, offering a paradigm shift away from traditional, centralized banking institutions. By leveraging blockchain technology, DeFi platforms enable peer-to-peer transactions, lending, and asset management with enhanced transparency and reduced overhead, thereby democratizing access to financial services globally.\",\n",
        "        \"My trip to the beach was awesome. The sun was out and the water was perfect. I built a huge sandcastle but then the tide came in and washed it away. It was kinda sad to see it go but it was fun while it lasted. Got some good pictures too.\"\n",
        "]\n",
        "\n",
        "# Save as text file\n",
        "with open('human_ai_sample_texts.txt', 'w') as f:\n",
        "    for text in sample_texts:\n",
        "        f.write(text + '\\n')\n",
        "\n",
        "# Create sample PDF and Word documents\n",
        "# Import required libraries\n",
        "!pip install fpdf python-docx\n",
        "from fpdf import FPDF\n",
        "from docx import Document\n",
        "sample_text_pdf_docx = [\n",
        "    \"Quantum flux in the neural matrix recalibrates synaptic weights, optimizing for stochastic gradient descent in a hyperdimensional latent space.\",\n",
        "    \"Yo, just grabbed a coffee and totally spilled it on my new shirt. Classic Monday move, ugh.\",\n",
        "    \"I saw this cute dog on my walk today, and it totally made my day! Fluffy vibes only.\"\n",
        "    'The algorithm cascades through recursive loops, parsing fractal patterns in a self-referential data lattice.'\n",
        "    'The intricate tapestry of quantum mechanics reveals a universe governed by probabilistic outcomes rather than deterministic certainties, fundamentally reshaping our understanding of reality.'\n",
        "    \"Can’t decide if I should binge that new sci-fi show or just go to bed early for once. Send help.\"\n",
        "]\n",
        "\n",
        "pdf = FPDF()\n",
        "pdf.add_page()\n",
        "pdf.set_font(\"Arial\", size=12)\n",
        "for text in sample_texts:\n",
        "    pdf.multi_cell(0, 10, text)\n",
        "pdf.output(\"human_ai_sample_texts.pdf\")\n",
        "\n",
        "# Create sample Word document\n",
        "doc = Document()\n",
        "for text in sample_texts:\n",
        "    doc.add_paragraph(text)\n",
        "doc.save('human_ai_sample_texts.docx')\n",
        "\n",
        "print(\"Sample data files created!\")\n",
        "print(\"Files: sample_texts.txt, human_ai_sample_texts.pdf, human_ai_sample_texts.docx\")\n",
        "\n",
        "# Download these files too\n",
        "try:\n",
        "    from google.colab import files\n",
        "    files.download('human_ai_sample_texts.txt')\n",
        "    files.download('human_ai_sample_texts.pdf')\n",
        "    files.download('human_ai_sample_texts.docx')\n",
        "    print(\"Sample data files downloaded!\")\n",
        "except:\n",
        "    print(\"Sample data files saved locally\")"
      ],
      "metadata": {
        "id": "gsHVkRIJ68Sc",
        "colab": {
          "base_uri": "https://localhost:8080/",
          "height": 376
        },
        "outputId": "6914a4f6-77e7-4b54-ae96-c59436d7852c"
      },
      "execution_count": 91,
      "outputs": [
        {
          "output_type": "stream",
          "name": "stdout",
          "text": [
            "Collecting fpdf\n",
            "  Downloading fpdf-1.7.2.tar.gz (39 kB)\n",
            "  Preparing metadata (setup.py) ... \u001b[?25l\u001b[?25hdone\n",
            "Collecting python-docx\n",
            "  Downloading python_docx-1.2.0-py3-none-any.whl.metadata (2.0 kB)\n",
            "Requirement already satisfied: lxml>=3.1.0 in /usr/local/lib/python3.11/dist-packages (from python-docx) (5.4.0)\n",
            "Requirement already satisfied: typing_extensions>=4.9.0 in /usr/local/lib/python3.11/dist-packages (from python-docx) (4.14.0)\n",
            "Downloading python_docx-1.2.0-py3-none-any.whl (252 kB)\n",
            "\u001b[2K   \u001b[90m━━━━━━━━━━━━━━━━━━━━━━━━━━━━━━━━━━━━━━━━\u001b[0m \u001b[32m253.0/253.0 kB\u001b[0m \u001b[31m9.2 MB/s\u001b[0m eta \u001b[36m0:00:00\u001b[0m\n",
            "\u001b[?25hBuilding wheels for collected packages: fpdf\n",
            "  Building wheel for fpdf (setup.py) ... \u001b[?25l\u001b[?25hdone\n",
            "  Created wheel for fpdf: filename=fpdf-1.7.2-py2.py3-none-any.whl size=40704 sha256=e25dd9eec01c65efbcc180ae8bea5026bb010415a57f48ef777e4fe15304858e\n",
            "  Stored in directory: /root/.cache/pip/wheels/65/4f/66/bbda9866da446a72e206d6484cd97381cbc7859a7068541c36\n",
            "Successfully built fpdf\n",
            "Installing collected packages: fpdf, python-docx\n",
            "Successfully installed fpdf-1.7.2 python-docx-1.2.0\n",
            "Sample data files created!\n",
            "Files: sample_texts.txt, human_ai_sample_texts.pdf, human_ai_sample_texts.docx\n"
          ]
        },
        {
          "output_type": "display_data",
          "data": {
            "text/plain": [
              "<IPython.core.display.Javascript object>"
            ],
            "application/javascript": [
              "\n",
              "    async function download(id, filename, size) {\n",
              "      if (!google.colab.kernel.accessAllowed) {\n",
              "        return;\n",
              "      }\n",
              "      const div = document.createElement('div');\n",
              "      const label = document.createElement('label');\n",
              "      label.textContent = `Downloading \"${filename}\": `;\n",
              "      div.appendChild(label);\n",
              "      const progress = document.createElement('progress');\n",
              "      progress.max = size;\n",
              "      div.appendChild(progress);\n",
              "      document.body.appendChild(div);\n",
              "\n",
              "      const buffers = [];\n",
              "      let downloaded = 0;\n",
              "\n",
              "      const channel = await google.colab.kernel.comms.open(id);\n",
              "      // Send a message to notify the kernel that we're ready.\n",
              "      channel.send({})\n",
              "\n",
              "      for await (const message of channel.messages) {\n",
              "        // Send a message to notify the kernel that we're ready.\n",
              "        channel.send({})\n",
              "        if (message.buffers) {\n",
              "          for (const buffer of message.buffers) {\n",
              "            buffers.push(buffer);\n",
              "            downloaded += buffer.byteLength;\n",
              "            progress.value = downloaded;\n",
              "          }\n",
              "        }\n",
              "      }\n",
              "      const blob = new Blob(buffers, {type: 'application/binary'});\n",
              "      const a = document.createElement('a');\n",
              "      a.href = window.URL.createObjectURL(blob);\n",
              "      a.download = filename;\n",
              "      div.appendChild(a);\n",
              "      a.click();\n",
              "      div.remove();\n",
              "    }\n",
              "  "
            ]
          },
          "metadata": {}
        },
        {
          "output_type": "display_data",
          "data": {
            "text/plain": [
              "<IPython.core.display.Javascript object>"
            ],
            "application/javascript": [
              "download(\"download_1a6af922-797d-434f-be8d-a9c13637dc81\", \"human_ai_sample_texts.txt\", 1290)"
            ]
          },
          "metadata": {}
        },
        {
          "output_type": "display_data",
          "data": {
            "text/plain": [
              "<IPython.core.display.Javascript object>"
            ],
            "application/javascript": [
              "\n",
              "    async function download(id, filename, size) {\n",
              "      if (!google.colab.kernel.accessAllowed) {\n",
              "        return;\n",
              "      }\n",
              "      const div = document.createElement('div');\n",
              "      const label = document.createElement('label');\n",
              "      label.textContent = `Downloading \"${filename}\": `;\n",
              "      div.appendChild(label);\n",
              "      const progress = document.createElement('progress');\n",
              "      progress.max = size;\n",
              "      div.appendChild(progress);\n",
              "      document.body.appendChild(div);\n",
              "\n",
              "      const buffers = [];\n",
              "      let downloaded = 0;\n",
              "\n",
              "      const channel = await google.colab.kernel.comms.open(id);\n",
              "      // Send a message to notify the kernel that we're ready.\n",
              "      channel.send({})\n",
              "\n",
              "      for await (const message of channel.messages) {\n",
              "        // Send a message to notify the kernel that we're ready.\n",
              "        channel.send({})\n",
              "        if (message.buffers) {\n",
              "          for (const buffer of message.buffers) {\n",
              "            buffers.push(buffer);\n",
              "            downloaded += buffer.byteLength;\n",
              "            progress.value = downloaded;\n",
              "          }\n",
              "        }\n",
              "      }\n",
              "      const blob = new Blob(buffers, {type: 'application/binary'});\n",
              "      const a = document.createElement('a');\n",
              "      a.href = window.URL.createObjectURL(blob);\n",
              "      a.download = filename;\n",
              "      div.appendChild(a);\n",
              "      a.click();\n",
              "      div.remove();\n",
              "    }\n",
              "  "
            ]
          },
          "metadata": {}
        },
        {
          "output_type": "display_data",
          "data": {
            "text/plain": [
              "<IPython.core.display.Javascript object>"
            ],
            "application/javascript": [
              "download(\"download_fa8336f9-06a8-40dc-a747-bfee785be26d\", \"human_ai_sample_texts.pdf\", 1855)"
            ]
          },
          "metadata": {}
        },
        {
          "output_type": "display_data",
          "data": {
            "text/plain": [
              "<IPython.core.display.Javascript object>"
            ],
            "application/javascript": [
              "\n",
              "    async function download(id, filename, size) {\n",
              "      if (!google.colab.kernel.accessAllowed) {\n",
              "        return;\n",
              "      }\n",
              "      const div = document.createElement('div');\n",
              "      const label = document.createElement('label');\n",
              "      label.textContent = `Downloading \"${filename}\": `;\n",
              "      div.appendChild(label);\n",
              "      const progress = document.createElement('progress');\n",
              "      progress.max = size;\n",
              "      div.appendChild(progress);\n",
              "      document.body.appendChild(div);\n",
              "\n",
              "      const buffers = [];\n",
              "      let downloaded = 0;\n",
              "\n",
              "      const channel = await google.colab.kernel.comms.open(id);\n",
              "      // Send a message to notify the kernel that we're ready.\n",
              "      channel.send({})\n",
              "\n",
              "      for await (const message of channel.messages) {\n",
              "        // Send a message to notify the kernel that we're ready.\n",
              "        channel.send({})\n",
              "        if (message.buffers) {\n",
              "          for (const buffer of message.buffers) {\n",
              "            buffers.push(buffer);\n",
              "            downloaded += buffer.byteLength;\n",
              "            progress.value = downloaded;\n",
              "          }\n",
              "        }\n",
              "      }\n",
              "      const blob = new Blob(buffers, {type: 'application/binary'});\n",
              "      const a = document.createElement('a');\n",
              "      a.href = window.URL.createObjectURL(blob);\n",
              "      a.download = filename;\n",
              "      div.appendChild(a);\n",
              "      a.click();\n",
              "      div.remove();\n",
              "    }\n",
              "  "
            ]
          },
          "metadata": {}
        },
        {
          "output_type": "display_data",
          "data": {
            "text/plain": [
              "<IPython.core.display.Javascript object>"
            ],
            "application/javascript": [
              "download(\"download_5b84f3a4-c87e-4ad3-8e40-b6a8a773ce41\", \"human_ai_sample_texts.docx\", 37295)"
            ]
          },
          "metadata": {}
        },
        {
          "output_type": "stream",
          "name": "stdout",
          "text": [
            "Sample data files downloaded!\n"
          ]
        }
      ]
    },
    {
      "cell_type": "markdown",
      "source": [
        "## **For Streamlit deployment:**\n",
        "- Step 1: Upload these .pkl files to the main Streamlit project folder\"\n",
        "- Step 2: Use joblib.load() to load the models in your Streamlit app\"\n",
        "- Step 3. Apply the same text preprocessing before making predictions\""
      ],
      "metadata": {
        "id": "_J27Xvsn698x"
      }
    },
    {
      "cell_type": "code",
      "source": [
        "print(\"\\nFile purposes:\")\n",
        "print(\"🔸 tfidf_vectorizer.pkl: Converts text to numerical features\")\n",
        "print(\"🔸 human_vs_ai_written_pipeline.pkl: Complete pipeline (best model)\")\n",
        "print(\"🔸 optimized_svm_model.pkl: SVM classifier only\")\n",
        "print(\"🔸 decision_tree_pipeline.pkl: Decision Tree classifier only\")\n",
        "print(\"🔸 adaboost_pipeline.pkl: AdaBoost classifier only\")\n",
        "\n",
        "print(\"\\nOur Human vs AI Text Detection Pipeline is now ready for Streamlit deployment!\")"
      ],
      "metadata": {
        "id": "6yTbmYom7DFS",
        "colab": {
          "base_uri": "https://localhost:8080/"
        },
        "outputId": "ff808903-f60b-4386-e400-77e875385430"
      },
      "execution_count": 228,
      "outputs": [
        {
          "output_type": "stream",
          "name": "stdout",
          "text": [
            "\n",
            "File purposes:\n",
            "🔸 tfidf_vectorizer.pkl: Converts text to numerical features\n",
            "🔸 human_vs_ai_written_pipeline.pkl: Complete pipeline (best model)\n",
            "🔸 optimized_svm_model.pkl: SVM classifier only\n",
            "🔸 decision_tree_pipeline.pkl: Decision Tree classifier only\n",
            "🔸 adaboost_pipeline.pkl: AdaBoost classifier only\n",
            "\n",
            "Our Human vs AI Text Detection Pipeline is now ready for Streamlit deployment!\n"
          ]
        }
      ]
    },
    {
      "cell_type": "code",
      "source": [
        "# Error Handling Summary\n",
        "print(\"\\n\" + \"=\"*60)\n",
        "print(\"TROUBLESHOOTING GUIDE\")\n",
        "print(\"=\"*60)\n",
        "\n",
        "print(\"If you encountered errors, make sure these files exist:\")\n",
        "print(\"📁 models/\")\n",
        "print(\"   ├── tfidf_vectorizer.pkl\")\n",
        "print(\"   ├── human_vs_ai_written_pipeline.pkl\")\n",
        "print(\"   ├── optimized_svm_model.pkl\")\n",
        "print(\"   ├── individual_svm_classifier.pkl\")\n",
        "print(\"   ├── decision_tree_pipeline.pkl\")\n",
        "print(\"   ├── adaboost_pipeline.pkl.pkl\")\n",
        "print(\"   ├── optimized_dt_model.pkl\")\n",
        "print(\"   └── optimized_adaboost_model.pkl\")"
      ],
      "metadata": {
        "id": "6a53lmd97EKD",
        "colab": {
          "base_uri": "https://localhost:8080/"
        },
        "outputId": "7b9f4e81-9fb7-422f-ffe1-97de3ec27621"
      },
      "execution_count": 229,
      "outputs": [
        {
          "output_type": "stream",
          "name": "stdout",
          "text": [
            "\n",
            "============================================================\n",
            "TROUBLESHOOTING GUIDE\n",
            "============================================================\n",
            "If you encountered errors, make sure these files exist:\n",
            "📁 models/\n",
            "   ├── tfidf_vectorizer.pkl\n",
            "   ├── human_vs_ai_written_pipeline.pkl\n",
            "   ├── optimized_svm_model.pkl\n",
            "   ├── individual_svm_classifier.pkl\n",
            "   ├── decision_tree_pipeline.pkl\n",
            "   ├── adaboost_pipeline.pkl.pkl\n",
            "   ├── optimized_dt_model.pkl\n",
            "   └── optimized_adaboost_model.pkl\n"
          ]
        }
      ]
    }
  ]
}